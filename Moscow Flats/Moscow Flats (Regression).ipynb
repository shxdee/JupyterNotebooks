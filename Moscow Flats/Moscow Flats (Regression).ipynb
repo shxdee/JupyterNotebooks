{
 "cells": [
  {
   "cell_type": "markdown",
   "id": "a75a7d90",
   "metadata": {},
   "source": [
    "# Прогнозирование стоимости квартир в Москве "
   ]
  },
  {
   "cell_type": "code",
   "execution_count": 106,
   "id": "f6207531",
   "metadata": {},
   "outputs": [],
   "source": [
    "import pandas as pd\n",
    "import datetime\n",
    "import numpy as np\n",
    "import matplotlib.pyplot as plt\n",
    "import seaborn as sns \n",
    "\n",
    "import math\n",
    "\n",
    "from sklearn.feature_selection import f_classif, mutual_info_classif\n",
    "from sklearn.preprocessing import LabelEncoder, OneHotEncoder, StandardScaler\n",
    "from sklearn.metrics import plot_confusion_matrix\n",
    "from sklearn.preprocessing import PolynomialFeatures\n",
    "from sklearn.model_selection import train_test_split, GridSearchCV\n",
    "from sklearn.metrics import accuracy_score, r2_score, mean_absolute_error, mean_squared_error\n",
    "from sklearn.linear_model import LinearRegression\n",
    "from sklearn.ensemble import RandomForestRegressor\n",
    "from sklearn.tree import DecisionTreeRegressor\n",
    "from sklearn.neighbors import KNeighborsRegressor\n",
    "from sklearn.svm import SVR\n",
    "from sklearn.neural_network import MLPRegressor\n",
    "from xgboost import XGBRegressor\n",
    "from sklearn.model_selection import cross_validate, StratifiedKFold\n",
    "from sklearn.metrics import confusion_matrix, ConfusionMatrixDisplay\n",
    "from scipy.stats import randint\n",
    "from sklearn.tree import DecisionTreeClassifier\n",
    "from sklearn.model_selection import RandomizedSearchCV"
   ]
  },
  {
   "cell_type": "markdown",
   "id": "827a6b90",
   "metadata": {},
   "source": [
    "# Загрузка данных"
   ]
  },
  {
   "cell_type": "code",
   "execution_count": 107,
   "id": "83474df3",
   "metadata": {},
   "outputs": [],
   "source": [
    "df = pd.read_csv(\"flats_moscow.csv\")"
   ]
  },
  {
   "cell_type": "code",
   "execution_count": 108,
   "id": "b3dc2d46",
   "metadata": {
    "scrolled": false
   },
   "outputs": [
    {
     "name": "stdout",
     "output_type": "stream",
     "text": [
      "<class 'pandas.core.frame.DataFrame'>\n",
      "RangeIndex: 2040 entries, 0 to 2039\n",
      "Data columns (total 11 columns):\n",
      " #   Column      Non-Null Count  Dtype  \n",
      "---  ------      --------------  -----  \n",
      " 0   Unnamed: 0  2040 non-null   int64  \n",
      " 1   price       2040 non-null   int64  \n",
      " 2   totsp       2040 non-null   int64  \n",
      " 3   livesp      2040 non-null   int64  \n",
      " 4   kitsp       2040 non-null   float64\n",
      " 5   dist        2040 non-null   float64\n",
      " 6   metrdist    2040 non-null   int64  \n",
      " 7   walk        2040 non-null   int64  \n",
      " 8   brick       2040 non-null   int64  \n",
      " 9   floor       2040 non-null   int64  \n",
      " 10  code        2040 non-null   int64  \n",
      "dtypes: float64(2), int64(9)\n",
      "memory usage: 175.4 KB\n"
     ]
    },
    {
     "data": {
      "text/html": [
       "<div>\n",
       "<style scoped>\n",
       "    .dataframe tbody tr th:only-of-type {\n",
       "        vertical-align: middle;\n",
       "    }\n",
       "\n",
       "    .dataframe tbody tr th {\n",
       "        vertical-align: top;\n",
       "    }\n",
       "\n",
       "    .dataframe thead th {\n",
       "        text-align: right;\n",
       "    }\n",
       "</style>\n",
       "<table border=\"1\" class=\"dataframe\">\n",
       "  <thead>\n",
       "    <tr style=\"text-align: right;\">\n",
       "      <th></th>\n",
       "      <th>Unnamed: 0</th>\n",
       "      <th>price</th>\n",
       "      <th>totsp</th>\n",
       "      <th>livesp</th>\n",
       "      <th>kitsp</th>\n",
       "      <th>dist</th>\n",
       "      <th>metrdist</th>\n",
       "      <th>walk</th>\n",
       "      <th>brick</th>\n",
       "      <th>floor</th>\n",
       "      <th>code</th>\n",
       "    </tr>\n",
       "  </thead>\n",
       "  <tbody>\n",
       "    <tr>\n",
       "      <th>0</th>\n",
       "      <td>1</td>\n",
       "      <td>81</td>\n",
       "      <td>58</td>\n",
       "      <td>40</td>\n",
       "      <td>6.0</td>\n",
       "      <td>12.5</td>\n",
       "      <td>7</td>\n",
       "      <td>1</td>\n",
       "      <td>1</td>\n",
       "      <td>1</td>\n",
       "      <td>3</td>\n",
       "    </tr>\n",
       "    <tr>\n",
       "      <th>1</th>\n",
       "      <td>2</td>\n",
       "      <td>75</td>\n",
       "      <td>44</td>\n",
       "      <td>28</td>\n",
       "      <td>6.0</td>\n",
       "      <td>13.5</td>\n",
       "      <td>7</td>\n",
       "      <td>1</td>\n",
       "      <td>0</td>\n",
       "      <td>1</td>\n",
       "      <td>6</td>\n",
       "    </tr>\n",
       "    <tr>\n",
       "      <th>2</th>\n",
       "      <td>3</td>\n",
       "      <td>128</td>\n",
       "      <td>70</td>\n",
       "      <td>42</td>\n",
       "      <td>6.0</td>\n",
       "      <td>14.5</td>\n",
       "      <td>3</td>\n",
       "      <td>1</td>\n",
       "      <td>1</td>\n",
       "      <td>1</td>\n",
       "      <td>3</td>\n",
       "    </tr>\n",
       "    <tr>\n",
       "      <th>3</th>\n",
       "      <td>4</td>\n",
       "      <td>95</td>\n",
       "      <td>61</td>\n",
       "      <td>37</td>\n",
       "      <td>6.0</td>\n",
       "      <td>13.5</td>\n",
       "      <td>7</td>\n",
       "      <td>1</td>\n",
       "      <td>0</td>\n",
       "      <td>1</td>\n",
       "      <td>1</td>\n",
       "    </tr>\n",
       "    <tr>\n",
       "      <th>4</th>\n",
       "      <td>5</td>\n",
       "      <td>330</td>\n",
       "      <td>104</td>\n",
       "      <td>60</td>\n",
       "      <td>11.0</td>\n",
       "      <td>10.5</td>\n",
       "      <td>7</td>\n",
       "      <td>0</td>\n",
       "      <td>1</td>\n",
       "      <td>1</td>\n",
       "      <td>3</td>\n",
       "    </tr>\n",
       "  </tbody>\n",
       "</table>\n",
       "</div>"
      ],
      "text/plain": [
       "   Unnamed: 0  price  totsp  livesp  kitsp  dist  metrdist  walk  brick  \\\n",
       "0           1     81     58      40    6.0  12.5         7     1      1   \n",
       "1           2     75     44      28    6.0  13.5         7     1      0   \n",
       "2           3    128     70      42    6.0  14.5         3     1      1   \n",
       "3           4     95     61      37    6.0  13.5         7     1      0   \n",
       "4           5    330    104      60   11.0  10.5         7     0      1   \n",
       "\n",
       "   floor  code  \n",
       "0      1     3  \n",
       "1      1     6  \n",
       "2      1     3  \n",
       "3      1     1  \n",
       "4      1     3  "
      ]
     },
     "execution_count": 108,
     "metadata": {},
     "output_type": "execute_result"
    }
   ],
   "source": [
    "df.info()\n",
    "df.head()"
   ]
  },
  {
   "cell_type": "code",
   "execution_count": 109,
   "id": "0ef861fb",
   "metadata": {},
   "outputs": [],
   "source": [
    "# Unnamed ? \n",
    "df.drop('Unnamed: 0', axis=1, inplace=True)"
   ]
  },
  {
   "cell_type": "markdown",
   "id": "e160cfec",
   "metadata": {},
   "source": [
    "# Описание полей"
   ]
  },
  {
   "cell_type": "markdown",
   "id": "c41a5c29",
   "metadata": {},
   "source": [
    "price: цена квартиры в 1000$ / the price of a flat in 1000;\n",
    "\n",
    "totsp: общая площадь квартиры, кв.м. / total square of a flat, m2;\n",
    "\n",
    "livesp: жилая площадь квартиры, кв.м. / living square of a flat, m2;\n",
    "\n",
    "kitsp: площадь кухни, кв.м. / kitchen square, m2;\n",
    "\n",
    "dist: расстояние от центра в км. / distance to the city center, km;\n",
    "\n",
    "metrdist: расстояние до метро в минутах / distance to the nearest metro station, min;\n",
    "\n",
    "walk: 1 – пешком от метро, 0 – на транспорте / 1 - walk to metro, 0 - using transport;\n",
    "\n",
    "brick: 1 – кирпичный, монолит ж/б, 0 – другой / 1 - brick, monolithic house, 0 - anothers;\n",
    "\n",
    "floor: 1 – этаж кроме первого и последнего, 0 – иначе / 0 - the first or the last floor, 1 - anothers;\n",
    "\n",
    "code: число от 1 до 8, обозначающее район города / number from 1 to 8 of the city area:\n",
    "\n",
    "    1. Север, около Калужско-Рижской линии метро / North of the city, around Kaluzhsko-Rizhskaya metro line;\n",
    "    \n",
    "    2. Север, около Серпуховско-Тимирязевской линии метро / North of the city, around Serpukhovsko-Timiryazevskaya metro line;\n",
    "    \n",
    "    3. Северо-запад, около Замоскворецкой линиии метро / North-West, around Zamoskvoretskaya metro line;\n",
    "    \n",
    "    4. Северо-запад, около Таганско-Краснопресненской линиии метро / North-West, around Tagansko-Krasnopresnenskaya metro line;\n",
    "    \n",
    "    5. Юго-восток, около Люблинской линиии метро / South-East, around Lyublinskaya metro line;\n",
    "    \n",
    "    6. Юго-восток, около Таганско-Краснопресненской линиии метро / South-East, around Tagansko-Krasnopresnenskaya metro line;\n",
    "    \n",
    "    7. Восток, около Калининской линиии метро / East, around Kalininskaya metro line;\n",
    "    \n",
    "    8. Восток, около Арбатско-Покровской линиии метро / East, around Arbatsko-Pokrovskaya metro line."
   ]
  },
  {
   "cell_type": "markdown",
   "id": "1d7a6e71",
   "metadata": {},
   "source": [
    "# Анализ данных"
   ]
  },
  {
   "cell_type": "code",
   "execution_count": 110,
   "id": "32aa327f",
   "metadata": {},
   "outputs": [],
   "source": [
    "num_cols = ['price','totsp','livesp','kitsp','dist', 'metrdist'] \n",
    "cat_cols = ['code'] \n",
    "bin_cols = ['walk','brick','floor'] "
   ]
  },
  {
   "cell_type": "markdown",
   "id": "eb8ca2c8",
   "metadata": {},
   "source": [
    "# Численные столбцы"
   ]
  },
  {
   "cell_type": "code",
   "execution_count": 111,
   "id": "7e5c54d2",
   "metadata": {},
   "outputs": [
    {
     "data": {
      "text/plain": [
       "array([[<AxesSubplot:title={'center':'price'}>,\n",
       "        <AxesSubplot:title={'center':'totsp'}>],\n",
       "       [<AxesSubplot:title={'center':'livesp'}>,\n",
       "        <AxesSubplot:title={'center':'kitsp'}>],\n",
       "       [<AxesSubplot:title={'center':'dist'}>,\n",
       "        <AxesSubplot:title={'center':'metrdist'}>]], dtype=object)"
      ]
     },
     "execution_count": 111,
     "metadata": {},
     "output_type": "execute_result"
    },
    {
     "data": {
      "image/png": "[encoded data removed]",
      "text/plain": [
       "<Figure size 1500x1500 with 6 Axes>"
      ]
     },
     "metadata": {},
     "output_type": "display_data"
    }
   ],
   "source": [
    "df[num_cols].hist(figsize=(15,15))"
   ]
  },
  {
   "cell_type": "code",
   "execution_count": 112,
   "id": "be92b446",
   "metadata": {
    "scrolled": false
   },
   "outputs": [
    {
     "data": {
      "image/png": "[encoded data removed]",
      "text/plain": [
       "<Figure size 1400x400 with 1 Axes>"
      ]
     },
     "metadata": {},
     "output_type": "display_data"
    },
    {
     "data": {
      "image/png": "[encoded data removed]",
      "text/plain": [
       "<Figure size 1400x400 with 1 Axes>"
      ]
     },
     "metadata": {},
     "output_type": "display_data"
    },
    {
     "data": {
      "image/png": "[encoded data removed]",
      "text/plain": [
       "<Figure size 1400x400 with 1 Axes>"
      ]
     },
     "metadata": {},
     "output_type": "display_data"
    },
    {
     "data": {
      "image/png": "[encoded data removed]",
      "text/plain": [
       "<Figure size 1400x400 with 1 Axes>"
      ]
     },
     "metadata": {},
     "output_type": "display_data"
    },
    {
     "data": {
      "image/png": "[encoded data removed]",
      "text/plain": [
       "<Figure size 1400x400 with 1 Axes>"
      ]
     },
     "metadata": {},
     "output_type": "display_data"
    },
    {
     "data": {
      "image/png": "[encoded data removed]",
      "text/plain": [
       "<Figure size 1400x400 with 1 Axes>"
      ]
     },
     "metadata": {},
     "output_type": "display_data"
    }
   ],
   "source": [
    "def boxplot(col):\n",
    "    fig, axes = plt.subplots(figsize = (14, 4))\n",
    "    sns.boxplot(x=col, data=df)\n",
    "    axes.set_title('Boxplot for ' + col)\n",
    "    plt.show()\n",
    "for col in num_cols:\n",
    "    boxplot(col)"
   ]
  },
  {
   "cell_type": "code",
   "execution_count": 113,
   "id": "482575b6",
   "metadata": {},
   "outputs": [
    {
     "data": {
      "text/plain": [
       "<AxesSubplot:xlabel='totsp', ylabel='price'>"
      ]
     },
     "execution_count": 113,
     "metadata": {},
     "output_type": "execute_result"
    },
    {
     "data": {
      "image/png": "[encoded data removed]",
      "text/plain": [
       "<Figure size 1500x1000 with 1 Axes>"
      ]
     },
     "metadata": {},
     "output_type": "display_data"
    }
   ],
   "source": [
    "plt.figure(figsize=(15,10))\n",
    "sns.scatterplot(x=df.totsp, y=df.price)"
   ]
  },
  {
   "cell_type": "code",
   "execution_count": 114,
   "id": "2c5cb6de",
   "metadata": {},
   "outputs": [
    {
     "data": {
      "text/plain": [
       "<AxesSubplot:xlabel='kitsp', ylabel='price'>"
      ]
     },
     "execution_count": 114,
     "metadata": {},
     "output_type": "execute_result"
    },
    {
     "data": {
      "image/png": "[encoded data removed]",
      "text/plain": [
       "<Figure size 1500x1000 with 1 Axes>"
      ]
     },
     "metadata": {},
     "output_type": "display_data"
    }
   ],
   "source": [
    "plt.figure(figsize=(15,10))\n",
    "sns.scatterplot(x=df.kitsp, y=df.price)"
   ]
  },
  {
   "cell_type": "markdown",
   "id": "585cafa7",
   "metadata": {},
   "source": [
    "Зависимость от цены кухни небольшая, даже, удивительно несколько домов с особенно большими кухнями, стоят дешевле аналогов, возможно потому что это пространство \"ворует\" площадь остальных комнат"
   ]
  },
  {
   "cell_type": "code",
   "execution_count": 115,
   "id": "d6f862f7",
   "metadata": {
    "scrolled": false
   },
   "outputs": [
    {
     "data": {
      "text/plain": [
       "<AxesSubplot:xlabel='totsp', ylabel='kitsp'>"
      ]
     },
     "execution_count": 115,
     "metadata": {},
     "output_type": "execute_result"
    },
    {
     "data": {
      "image/png": "[encoded data removed]",
      "text/plain": [
       "<Figure size 1500x1000 with 1 Axes>"
      ]
     },
     "metadata": {},
     "output_type": "display_data"
    }
   ],
   "source": [
    "plt.figure(figsize=(15,10))\n",
    "sns.scatterplot(x=df.totsp, y=df.kitsp)"
   ]
  },
  {
   "cell_type": "markdown",
   "id": "5e0a1d8d",
   "metadata": {},
   "source": [
    "Пара выбывшихся точек ближе к верхнему левому углу подтверждают нашу теорию"
   ]
  },
  {
   "cell_type": "code",
   "execution_count": 116,
   "id": "530f5589",
   "metadata": {
    "scrolled": true
   },
   "outputs": [
    {
     "data": {
      "text/html": [
       "<div>\n",
       "<style scoped>\n",
       "    .dataframe tbody tr th:only-of-type {\n",
       "        vertical-align: middle;\n",
       "    }\n",
       "\n",
       "    .dataframe tbody tr th {\n",
       "        vertical-align: top;\n",
       "    }\n",
       "\n",
       "    .dataframe thead th {\n",
       "        text-align: right;\n",
       "    }\n",
       "</style>\n",
       "<table border=\"1\" class=\"dataframe\">\n",
       "  <thead>\n",
       "    <tr style=\"text-align: right;\">\n",
       "      <th></th>\n",
       "      <th>price</th>\n",
       "      <th>totsp</th>\n",
       "      <th>livesp</th>\n",
       "      <th>kitsp</th>\n",
       "      <th>dist</th>\n",
       "      <th>metrdist</th>\n",
       "      <th>walk</th>\n",
       "      <th>brick</th>\n",
       "      <th>floor</th>\n",
       "      <th>code</th>\n",
       "    </tr>\n",
       "  </thead>\n",
       "  <tbody>\n",
       "    <tr>\n",
       "      <th>520</th>\n",
       "      <td>190</td>\n",
       "      <td>106</td>\n",
       "      <td>58</td>\n",
       "      <td>24.0</td>\n",
       "      <td>9.0</td>\n",
       "      <td>5</td>\n",
       "      <td>0</td>\n",
       "      <td>0</td>\n",
       "      <td>1</td>\n",
       "      <td>4</td>\n",
       "    </tr>\n",
       "    <tr>\n",
       "      <th>667</th>\n",
       "      <td>240</td>\n",
       "      <td>105</td>\n",
       "      <td>55</td>\n",
       "      <td>23.0</td>\n",
       "      <td>10.0</td>\n",
       "      <td>5</td>\n",
       "      <td>1</td>\n",
       "      <td>0</td>\n",
       "      <td>1</td>\n",
       "      <td>6</td>\n",
       "    </tr>\n",
       "    <tr>\n",
       "      <th>1119</th>\n",
       "      <td>252</td>\n",
       "      <td>132</td>\n",
       "      <td>74</td>\n",
       "      <td>23.0</td>\n",
       "      <td>12.5</td>\n",
       "      <td>3</td>\n",
       "      <td>1</td>\n",
       "      <td>1</td>\n",
       "      <td>0</td>\n",
       "      <td>3</td>\n",
       "    </tr>\n",
       "    <tr>\n",
       "      <th>1126</th>\n",
       "      <td>153</td>\n",
       "      <td>80</td>\n",
       "      <td>40</td>\n",
       "      <td>25.0</td>\n",
       "      <td>10.5</td>\n",
       "      <td>10</td>\n",
       "      <td>0</td>\n",
       "      <td>0</td>\n",
       "      <td>1</td>\n",
       "      <td>3</td>\n",
       "    </tr>\n",
       "    <tr>\n",
       "      <th>1684</th>\n",
       "      <td>145</td>\n",
       "      <td>76</td>\n",
       "      <td>44</td>\n",
       "      <td>24.0</td>\n",
       "      <td>12.7</td>\n",
       "      <td>2</td>\n",
       "      <td>1</td>\n",
       "      <td>0</td>\n",
       "      <td>0</td>\n",
       "      <td>5</td>\n",
       "    </tr>\n",
       "  </tbody>\n",
       "</table>\n",
       "</div>"
      ],
      "text/plain": [
       "      price  totsp  livesp  kitsp  dist  metrdist  walk  brick  floor  code\n",
       "520     190    106      58   24.0   9.0         5     0      0      1     4\n",
       "667     240    105      55   23.0  10.0         5     1      0      1     6\n",
       "1119    252    132      74   23.0  12.5         3     1      1      0     3\n",
       "1126    153     80      40   25.0  10.5        10     0      0      1     3\n",
       "1684    145     76      44   24.0  12.7         2     1      0      0     5"
      ]
     },
     "execution_count": 116,
     "metadata": {},
     "output_type": "execute_result"
    }
   ],
   "source": [
    "df.query('kitsp > 22')"
   ]
  },
  {
   "cell_type": "code",
   "execution_count": 117,
   "id": "a9a4d4ed",
   "metadata": {},
   "outputs": [
    {
     "data": {
      "text/plain": [
       "<AxesSubplot:xlabel='livesp', ylabel='price'>"
      ]
     },
     "execution_count": 117,
     "metadata": {},
     "output_type": "execute_result"
    },
    {
     "data": {
      "image/png": "[encoded data removed]",
      "text/plain": [
       "<Figure size 1500x1000 with 1 Axes>"
      ]
     },
     "metadata": {},
     "output_type": "display_data"
    }
   ],
   "source": [
    "plt.figure(figsize=(15,10))\n",
    "sns.scatterplot(x=df.livesp, y=df.price)"
   ]
  },
  {
   "cell_type": "markdown",
   "id": "fa94dc82",
   "metadata": {},
   "source": [
    "Жилая площадь показывает почти такую же линейную зависимость как и общая площадь"
   ]
  },
  {
   "cell_type": "code",
   "execution_count": 118,
   "id": "46149842",
   "metadata": {},
   "outputs": [
    {
     "data": {
      "text/plain": [
       "<AxesSubplot:xlabel='dist', ylabel='price'>"
      ]
     },
     "execution_count": 118,
     "metadata": {},
     "output_type": "execute_result"
    },
    {
     "data": {
      "image/png": "[encoded data removed]",
      "text/plain": [
       "<Figure size 1500x1000 with 1 Axes>"
      ]
     },
     "metadata": {},
     "output_type": "display_data"
    }
   ],
   "source": [
    "plt.figure(figsize=(15,10))\n",
    "sns.barplot(x=df.dist, y=df.price)"
   ]
  },
  {
   "cell_type": "markdown",
   "id": "993430c6",
   "metadata": {},
   "source": [
    "Видим, что после 9 км от центра явно снижается средняя цена на квартиры, попробуем выделить это разделение в отдельный признак close_to_center, значение 0 которого, будет означать, что квартира дальше чем 9 км от центра, \n",
    "1 - близкие к центру квартиры (<= 9 км)"
   ]
  },
  {
   "cell_type": "code",
   "execution_count": 119,
   "id": "23dedcc0",
   "metadata": {
    "scrolled": false
   },
   "outputs": [
    {
     "data": {
      "text/plain": [
       "<AxesSubplot:xlabel='dist', ylabel='totsp'>"
      ]
     },
     "execution_count": 119,
     "metadata": {},
     "output_type": "execute_result"
    },
    {
     "data": {
      "image/png": "[encoded data removed]",
      "text/plain": [
       "<Figure size 1500x1000 with 1 Axes>"
      ]
     },
     "metadata": {},
     "output_type": "display_data"
    }
   ],
   "source": [
    "plt.figure(figsize=(15,10))\n",
    "sns.barplot(x=df.dist, y=df.totsp)"
   ]
  },
  {
   "cell_type": "markdown",
   "id": "64e698b6",
   "metadata": {},
   "source": [
    "При этом площади квартир не зависят от расстояния от центра, так что нельзя просто сказать, что в центре большие по размеру \"люксовые\" апартаменты"
   ]
  },
  {
   "cell_type": "markdown",
   "id": "4a83a787",
   "metadata": {},
   "source": [
    "Расстояние от центра и от метро показывает лишь только, что люди не хотят платить много за квартиры \"слишком\" далеко от центра/метро (>16-20 м), но в остальном другие параметры берут предпочтение"
   ]
  },
  {
   "cell_type": "code",
   "execution_count": 120,
   "id": "36e285e8",
   "metadata": {},
   "outputs": [
    {
     "data": {
      "text/plain": [
       "<AxesSubplot:xlabel='metrdist', ylabel='price'>"
      ]
     },
     "execution_count": 120,
     "metadata": {},
     "output_type": "execute_result"
    },
    {
     "data": {
      "image/png": "[encoded data removed]",
      "text/plain": [
       "<Figure size 1500x1000 with 1 Axes>"
      ]
     },
     "metadata": {},
     "output_type": "display_data"
    }
   ],
   "source": [
    "plt.figure(figsize=(15,10))\n",
    "sns.barplot(x=df.metrdist, y=df.price)"
   ]
  },
  {
   "cell_type": "markdown",
   "id": "14590c58",
   "metadata": {},
   "source": [
    "В расстоянии от метро четкой зависимости не видно, выделяется лишь первый столбец как выше среднего, и 11, в котором судя по всему только одна квартира"
   ]
  },
  {
   "cell_type": "code",
   "execution_count": 121,
   "id": "c02ea6db",
   "metadata": {},
   "outputs": [
    {
     "data": {
      "text/html": [
       "<div>\n",
       "<style scoped>\n",
       "    .dataframe tbody tr th:only-of-type {\n",
       "        vertical-align: middle;\n",
       "    }\n",
       "\n",
       "    .dataframe tbody tr th {\n",
       "        vertical-align: top;\n",
       "    }\n",
       "\n",
       "    .dataframe thead th {\n",
       "        text-align: right;\n",
       "    }\n",
       "</style>\n",
       "<table border=\"1\" class=\"dataframe\">\n",
       "  <thead>\n",
       "    <tr style=\"text-align: right;\">\n",
       "      <th></th>\n",
       "      <th>price</th>\n",
       "      <th>totsp</th>\n",
       "      <th>livesp</th>\n",
       "      <th>kitsp</th>\n",
       "      <th>dist</th>\n",
       "      <th>metrdist</th>\n",
       "      <th>walk</th>\n",
       "      <th>brick</th>\n",
       "      <th>floor</th>\n",
       "      <th>code</th>\n",
       "    </tr>\n",
       "  </thead>\n",
       "  <tbody>\n",
       "    <tr>\n",
       "      <th>1458</th>\n",
       "      <td>94</td>\n",
       "      <td>64</td>\n",
       "      <td>38</td>\n",
       "      <td>9.0</td>\n",
       "      <td>12.0</td>\n",
       "      <td>11</td>\n",
       "      <td>0</td>\n",
       "      <td>0</td>\n",
       "      <td>1</td>\n",
       "      <td>7</td>\n",
       "    </tr>\n",
       "  </tbody>\n",
       "</table>\n",
       "</div>"
      ],
      "text/plain": [
       "      price  totsp  livesp  kitsp  dist  metrdist  walk  brick  floor  code\n",
       "1458     94     64      38    9.0  12.0        11     0      0      1     7"
      ]
     },
     "execution_count": 121,
     "metadata": {},
     "output_type": "execute_result"
    }
   ],
   "source": [
    "df.query('metrdist == 11')"
   ]
  },
  {
   "cell_type": "code",
   "execution_count": 122,
   "id": "e84d7ec8",
   "metadata": {},
   "outputs": [
    {
     "data": {
      "text/html": [
       "<div>\n",
       "<style scoped>\n",
       "    .dataframe tbody tr th:only-of-type {\n",
       "        vertical-align: middle;\n",
       "    }\n",
       "\n",
       "    .dataframe tbody tr th {\n",
       "        vertical-align: top;\n",
       "    }\n",
       "\n",
       "    .dataframe thead th {\n",
       "        text-align: right;\n",
       "    }\n",
       "</style>\n",
       "<table border=\"1\" class=\"dataframe\">\n",
       "  <thead>\n",
       "    <tr style=\"text-align: right;\">\n",
       "      <th></th>\n",
       "      <th>price</th>\n",
       "      <th>totsp</th>\n",
       "      <th>livesp</th>\n",
       "      <th>kitsp</th>\n",
       "      <th>dist</th>\n",
       "      <th>metrdist</th>\n",
       "      <th>walk</th>\n",
       "      <th>brick</th>\n",
       "      <th>floor</th>\n",
       "      <th>code</th>\n",
       "    </tr>\n",
       "  </thead>\n",
       "  <tbody>\n",
       "    <tr>\n",
       "      <th>17</th>\n",
       "      <td>175</td>\n",
       "      <td>79</td>\n",
       "      <td>50</td>\n",
       "      <td>9.0</td>\n",
       "      <td>4.5</td>\n",
       "      <td>1</td>\n",
       "      <td>1</td>\n",
       "      <td>1</td>\n",
       "      <td>0</td>\n",
       "      <td>8</td>\n",
       "    </tr>\n",
       "    <tr>\n",
       "      <th>53</th>\n",
       "      <td>140</td>\n",
       "      <td>99</td>\n",
       "      <td>51</td>\n",
       "      <td>12.0</td>\n",
       "      <td>10.5</td>\n",
       "      <td>1</td>\n",
       "      <td>1</td>\n",
       "      <td>0</td>\n",
       "      <td>0</td>\n",
       "      <td>7</td>\n",
       "    </tr>\n",
       "    <tr>\n",
       "      <th>183</th>\n",
       "      <td>270</td>\n",
       "      <td>105</td>\n",
       "      <td>74</td>\n",
       "      <td>18.0</td>\n",
       "      <td>5.0</td>\n",
       "      <td>1</td>\n",
       "      <td>1</td>\n",
       "      <td>1</td>\n",
       "      <td>1</td>\n",
       "      <td>4</td>\n",
       "    </tr>\n",
       "    <tr>\n",
       "      <th>202</th>\n",
       "      <td>120</td>\n",
       "      <td>63</td>\n",
       "      <td>43</td>\n",
       "      <td>9.0</td>\n",
       "      <td>12.0</td>\n",
       "      <td>1</td>\n",
       "      <td>1</td>\n",
       "      <td>0</td>\n",
       "      <td>0</td>\n",
       "      <td>8</td>\n",
       "    </tr>\n",
       "    <tr>\n",
       "      <th>237</th>\n",
       "      <td>150</td>\n",
       "      <td>78</td>\n",
       "      <td>44</td>\n",
       "      <td>8.0</td>\n",
       "      <td>13.5</td>\n",
       "      <td>1</td>\n",
       "      <td>1</td>\n",
       "      <td>0</td>\n",
       "      <td>1</td>\n",
       "      <td>1</td>\n",
       "    </tr>\n",
       "    <tr>\n",
       "      <th>262</th>\n",
       "      <td>195</td>\n",
       "      <td>110</td>\n",
       "      <td>55</td>\n",
       "      <td>11.0</td>\n",
       "      <td>12.0</td>\n",
       "      <td>1</td>\n",
       "      <td>1</td>\n",
       "      <td>1</td>\n",
       "      <td>1</td>\n",
       "      <td>7</td>\n",
       "    </tr>\n",
       "    <tr>\n",
       "      <th>272</th>\n",
       "      <td>105</td>\n",
       "      <td>66</td>\n",
       "      <td>48</td>\n",
       "      <td>8.0</td>\n",
       "      <td>12.0</td>\n",
       "      <td>1</td>\n",
       "      <td>1</td>\n",
       "      <td>0</td>\n",
       "      <td>0</td>\n",
       "      <td>5</td>\n",
       "    </tr>\n",
       "    <tr>\n",
       "      <th>502</th>\n",
       "      <td>80</td>\n",
       "      <td>56</td>\n",
       "      <td>37</td>\n",
       "      <td>6.0</td>\n",
       "      <td>10.0</td>\n",
       "      <td>1</td>\n",
       "      <td>1</td>\n",
       "      <td>0</td>\n",
       "      <td>0</td>\n",
       "      <td>6</td>\n",
       "    </tr>\n",
       "    <tr>\n",
       "      <th>557</th>\n",
       "      <td>145</td>\n",
       "      <td>73</td>\n",
       "      <td>45</td>\n",
       "      <td>7.0</td>\n",
       "      <td>9.0</td>\n",
       "      <td>1</td>\n",
       "      <td>1</td>\n",
       "      <td>1</td>\n",
       "      <td>1</td>\n",
       "      <td>4</td>\n",
       "    </tr>\n",
       "    <tr>\n",
       "      <th>575</th>\n",
       "      <td>225</td>\n",
       "      <td>92</td>\n",
       "      <td>48</td>\n",
       "      <td>13.0</td>\n",
       "      <td>9.0</td>\n",
       "      <td>1</td>\n",
       "      <td>1</td>\n",
       "      <td>1</td>\n",
       "      <td>1</td>\n",
       "      <td>4</td>\n",
       "    </tr>\n",
       "    <tr>\n",
       "      <th>595</th>\n",
       "      <td>150</td>\n",
       "      <td>86</td>\n",
       "      <td>53</td>\n",
       "      <td>9.0</td>\n",
       "      <td>11.5</td>\n",
       "      <td>1</td>\n",
       "      <td>1</td>\n",
       "      <td>0</td>\n",
       "      <td>1</td>\n",
       "      <td>6</td>\n",
       "    </tr>\n",
       "    <tr>\n",
       "      <th>611</th>\n",
       "      <td>168</td>\n",
       "      <td>75</td>\n",
       "      <td>46</td>\n",
       "      <td>10.0</td>\n",
       "      <td>6.5</td>\n",
       "      <td>1</td>\n",
       "      <td>1</td>\n",
       "      <td>1</td>\n",
       "      <td>1</td>\n",
       "      <td>2</td>\n",
       "    </tr>\n",
       "    <tr>\n",
       "      <th>887</th>\n",
       "      <td>260</td>\n",
       "      <td>107</td>\n",
       "      <td>58</td>\n",
       "      <td>14.0</td>\n",
       "      <td>13.0</td>\n",
       "      <td>1</td>\n",
       "      <td>1</td>\n",
       "      <td>0</td>\n",
       "      <td>1</td>\n",
       "      <td>5</td>\n",
       "    </tr>\n",
       "    <tr>\n",
       "      <th>890</th>\n",
       "      <td>170</td>\n",
       "      <td>82</td>\n",
       "      <td>52</td>\n",
       "      <td>15.0</td>\n",
       "      <td>5.0</td>\n",
       "      <td>1</td>\n",
       "      <td>1</td>\n",
       "      <td>1</td>\n",
       "      <td>1</td>\n",
       "      <td>4</td>\n",
       "    </tr>\n",
       "    <tr>\n",
       "      <th>925</th>\n",
       "      <td>210</td>\n",
       "      <td>71</td>\n",
       "      <td>45</td>\n",
       "      <td>15.0</td>\n",
       "      <td>9.0</td>\n",
       "      <td>1</td>\n",
       "      <td>1</td>\n",
       "      <td>1</td>\n",
       "      <td>1</td>\n",
       "      <td>4</td>\n",
       "    </tr>\n",
       "    <tr>\n",
       "      <th>963</th>\n",
       "      <td>270</td>\n",
       "      <td>105</td>\n",
       "      <td>74</td>\n",
       "      <td>10.0</td>\n",
       "      <td>5.0</td>\n",
       "      <td>1</td>\n",
       "      <td>1</td>\n",
       "      <td>1</td>\n",
       "      <td>1</td>\n",
       "      <td>4</td>\n",
       "    </tr>\n",
       "    <tr>\n",
       "      <th>986</th>\n",
       "      <td>95</td>\n",
       "      <td>63</td>\n",
       "      <td>39</td>\n",
       "      <td>8.0</td>\n",
       "      <td>17.0</td>\n",
       "      <td>1</td>\n",
       "      <td>1</td>\n",
       "      <td>0</td>\n",
       "      <td>1</td>\n",
       "      <td>2</td>\n",
       "    </tr>\n",
       "    <tr>\n",
       "      <th>1019</th>\n",
       "      <td>190</td>\n",
       "      <td>73</td>\n",
       "      <td>41</td>\n",
       "      <td>11.0</td>\n",
       "      <td>3.5</td>\n",
       "      <td>1</td>\n",
       "      <td>1</td>\n",
       "      <td>1</td>\n",
       "      <td>1</td>\n",
       "      <td>7</td>\n",
       "    </tr>\n",
       "    <tr>\n",
       "      <th>1080</th>\n",
       "      <td>180</td>\n",
       "      <td>78</td>\n",
       "      <td>52</td>\n",
       "      <td>8.0</td>\n",
       "      <td>9.0</td>\n",
       "      <td>1</td>\n",
       "      <td>1</td>\n",
       "      <td>1</td>\n",
       "      <td>1</td>\n",
       "      <td>3</td>\n",
       "    </tr>\n",
       "    <tr>\n",
       "      <th>1109</th>\n",
       "      <td>309</td>\n",
       "      <td>107</td>\n",
       "      <td>72</td>\n",
       "      <td>17.0</td>\n",
       "      <td>10.5</td>\n",
       "      <td>1</td>\n",
       "      <td>1</td>\n",
       "      <td>1</td>\n",
       "      <td>1</td>\n",
       "      <td>3</td>\n",
       "    </tr>\n",
       "    <tr>\n",
       "      <th>1132</th>\n",
       "      <td>130</td>\n",
       "      <td>64</td>\n",
       "      <td>35</td>\n",
       "      <td>6.0</td>\n",
       "      <td>9.0</td>\n",
       "      <td>1</td>\n",
       "      <td>1</td>\n",
       "      <td>1</td>\n",
       "      <td>1</td>\n",
       "      <td>4</td>\n",
       "    </tr>\n",
       "    <tr>\n",
       "      <th>1191</th>\n",
       "      <td>112</td>\n",
       "      <td>65</td>\n",
       "      <td>44</td>\n",
       "      <td>9.0</td>\n",
       "      <td>13.5</td>\n",
       "      <td>1</td>\n",
       "      <td>1</td>\n",
       "      <td>0</td>\n",
       "      <td>0</td>\n",
       "      <td>1</td>\n",
       "    </tr>\n",
       "    <tr>\n",
       "      <th>1218</th>\n",
       "      <td>162</td>\n",
       "      <td>78</td>\n",
       "      <td>48</td>\n",
       "      <td>11.0</td>\n",
       "      <td>6.5</td>\n",
       "      <td>1</td>\n",
       "      <td>1</td>\n",
       "      <td>1</td>\n",
       "      <td>1</td>\n",
       "      <td>2</td>\n",
       "    </tr>\n",
       "    <tr>\n",
       "      <th>1387</th>\n",
       "      <td>110</td>\n",
       "      <td>74</td>\n",
       "      <td>45</td>\n",
       "      <td>12.0</td>\n",
       "      <td>12.7</td>\n",
       "      <td>1</td>\n",
       "      <td>1</td>\n",
       "      <td>0</td>\n",
       "      <td>0</td>\n",
       "      <td>5</td>\n",
       "    </tr>\n",
       "    <tr>\n",
       "      <th>1410</th>\n",
       "      <td>189</td>\n",
       "      <td>80</td>\n",
       "      <td>52</td>\n",
       "      <td>10.0</td>\n",
       "      <td>7.0</td>\n",
       "      <td>1</td>\n",
       "      <td>1</td>\n",
       "      <td>1</td>\n",
       "      <td>1</td>\n",
       "      <td>4</td>\n",
       "    </tr>\n",
       "    <tr>\n",
       "      <th>1416</th>\n",
       "      <td>110</td>\n",
       "      <td>57</td>\n",
       "      <td>37</td>\n",
       "      <td>7.0</td>\n",
       "      <td>9.0</td>\n",
       "      <td>1</td>\n",
       "      <td>1</td>\n",
       "      <td>1</td>\n",
       "      <td>1</td>\n",
       "      <td>4</td>\n",
       "    </tr>\n",
       "    <tr>\n",
       "      <th>1428</th>\n",
       "      <td>170</td>\n",
       "      <td>82</td>\n",
       "      <td>52</td>\n",
       "      <td>20.0</td>\n",
       "      <td>5.0</td>\n",
       "      <td>1</td>\n",
       "      <td>1</td>\n",
       "      <td>0</td>\n",
       "      <td>1</td>\n",
       "      <td>4</td>\n",
       "    </tr>\n",
       "    <tr>\n",
       "      <th>1510</th>\n",
       "      <td>130</td>\n",
       "      <td>83</td>\n",
       "      <td>46</td>\n",
       "      <td>10.0</td>\n",
       "      <td>10.5</td>\n",
       "      <td>1</td>\n",
       "      <td>1</td>\n",
       "      <td>0</td>\n",
       "      <td>1</td>\n",
       "      <td>7</td>\n",
       "    </tr>\n",
       "    <tr>\n",
       "      <th>1528</th>\n",
       "      <td>477</td>\n",
       "      <td>119</td>\n",
       "      <td>93</td>\n",
       "      <td>15.0</td>\n",
       "      <td>9.0</td>\n",
       "      <td>1</td>\n",
       "      <td>1</td>\n",
       "      <td>0</td>\n",
       "      <td>1</td>\n",
       "      <td>3</td>\n",
       "    </tr>\n",
       "    <tr>\n",
       "      <th>1543</th>\n",
       "      <td>100</td>\n",
       "      <td>58</td>\n",
       "      <td>30</td>\n",
       "      <td>6.0</td>\n",
       "      <td>17.0</td>\n",
       "      <td>1</td>\n",
       "      <td>1</td>\n",
       "      <td>0</td>\n",
       "      <td>1</td>\n",
       "      <td>4</td>\n",
       "    </tr>\n",
       "    <tr>\n",
       "      <th>1550</th>\n",
       "      <td>85</td>\n",
       "      <td>59</td>\n",
       "      <td>44</td>\n",
       "      <td>6.0</td>\n",
       "      <td>7.0</td>\n",
       "      <td>1</td>\n",
       "      <td>1</td>\n",
       "      <td>0</td>\n",
       "      <td>1</td>\n",
       "      <td>5</td>\n",
       "    </tr>\n",
       "    <tr>\n",
       "      <th>1554</th>\n",
       "      <td>170</td>\n",
       "      <td>98</td>\n",
       "      <td>73</td>\n",
       "      <td>12.0</td>\n",
       "      <td>6.0</td>\n",
       "      <td>1</td>\n",
       "      <td>1</td>\n",
       "      <td>1</td>\n",
       "      <td>0</td>\n",
       "      <td>6</td>\n",
       "    </tr>\n",
       "    <tr>\n",
       "      <th>1619</th>\n",
       "      <td>130</td>\n",
       "      <td>74</td>\n",
       "      <td>45</td>\n",
       "      <td>10.0</td>\n",
       "      <td>12.0</td>\n",
       "      <td>1</td>\n",
       "      <td>1</td>\n",
       "      <td>0</td>\n",
       "      <td>1</td>\n",
       "      <td>1</td>\n",
       "    </tr>\n",
       "    <tr>\n",
       "      <th>1757</th>\n",
       "      <td>160</td>\n",
       "      <td>90</td>\n",
       "      <td>60</td>\n",
       "      <td>12.0</td>\n",
       "      <td>12.7</td>\n",
       "      <td>1</td>\n",
       "      <td>1</td>\n",
       "      <td>1</td>\n",
       "      <td>1</td>\n",
       "      <td>5</td>\n",
       "    </tr>\n",
       "    <tr>\n",
       "      <th>1783</th>\n",
       "      <td>160</td>\n",
       "      <td>84</td>\n",
       "      <td>50</td>\n",
       "      <td>9.0</td>\n",
       "      <td>12.7</td>\n",
       "      <td>1</td>\n",
       "      <td>1</td>\n",
       "      <td>0</td>\n",
       "      <td>1</td>\n",
       "      <td>5</td>\n",
       "    </tr>\n",
       "    <tr>\n",
       "      <th>1789</th>\n",
       "      <td>210</td>\n",
       "      <td>71</td>\n",
       "      <td>45</td>\n",
       "      <td>6.0</td>\n",
       "      <td>9.0</td>\n",
       "      <td>1</td>\n",
       "      <td>1</td>\n",
       "      <td>1</td>\n",
       "      <td>1</td>\n",
       "      <td>4</td>\n",
       "    </tr>\n",
       "    <tr>\n",
       "      <th>1840</th>\n",
       "      <td>87</td>\n",
       "      <td>54</td>\n",
       "      <td>34</td>\n",
       "      <td>6.0</td>\n",
       "      <td>17.0</td>\n",
       "      <td>1</td>\n",
       "      <td>1</td>\n",
       "      <td>0</td>\n",
       "      <td>1</td>\n",
       "      <td>4</td>\n",
       "    </tr>\n",
       "    <tr>\n",
       "      <th>1875</th>\n",
       "      <td>169</td>\n",
       "      <td>84</td>\n",
       "      <td>62</td>\n",
       "      <td>10.0</td>\n",
       "      <td>6.5</td>\n",
       "      <td>1</td>\n",
       "      <td>1</td>\n",
       "      <td>0</td>\n",
       "      <td>1</td>\n",
       "      <td>2</td>\n",
       "    </tr>\n",
       "    <tr>\n",
       "      <th>1963</th>\n",
       "      <td>215</td>\n",
       "      <td>90</td>\n",
       "      <td>61</td>\n",
       "      <td>9.0</td>\n",
       "      <td>9.0</td>\n",
       "      <td>1</td>\n",
       "      <td>1</td>\n",
       "      <td>1</td>\n",
       "      <td>1</td>\n",
       "      <td>3</td>\n",
       "    </tr>\n",
       "  </tbody>\n",
       "</table>\n",
       "</div>"
      ],
      "text/plain": [
       "      price  totsp  livesp  kitsp  dist  metrdist  walk  brick  floor  code\n",
       "17      175     79      50    9.0   4.5         1     1      1      0     8\n",
       "53      140     99      51   12.0  10.5         1     1      0      0     7\n",
       "183     270    105      74   18.0   5.0         1     1      1      1     4\n",
       "202     120     63      43    9.0  12.0         1     1      0      0     8\n",
       "237     150     78      44    8.0  13.5         1     1      0      1     1\n",
       "262     195    110      55   11.0  12.0         1     1      1      1     7\n",
       "272     105     66      48    8.0  12.0         1     1      0      0     5\n",
       "502      80     56      37    6.0  10.0         1     1      0      0     6\n",
       "557     145     73      45    7.0   9.0         1     1      1      1     4\n",
       "575     225     92      48   13.0   9.0         1     1      1      1     4\n",
       "595     150     86      53    9.0  11.5         1     1      0      1     6\n",
       "611     168     75      46   10.0   6.5         1     1      1      1     2\n",
       "887     260    107      58   14.0  13.0         1     1      0      1     5\n",
       "890     170     82      52   15.0   5.0         1     1      1      1     4\n",
       "925     210     71      45   15.0   9.0         1     1      1      1     4\n",
       "963     270    105      74   10.0   5.0         1     1      1      1     4\n",
       "986      95     63      39    8.0  17.0         1     1      0      1     2\n",
       "1019    190     73      41   11.0   3.5         1     1      1      1     7\n",
       "1080    180     78      52    8.0   9.0         1     1      1      1     3\n",
       "1109    309    107      72   17.0  10.5         1     1      1      1     3\n",
       "1132    130     64      35    6.0   9.0         1     1      1      1     4\n",
       "1191    112     65      44    9.0  13.5         1     1      0      0     1\n",
       "1218    162     78      48   11.0   6.5         1     1      1      1     2\n",
       "1387    110     74      45   12.0  12.7         1     1      0      0     5\n",
       "1410    189     80      52   10.0   7.0         1     1      1      1     4\n",
       "1416    110     57      37    7.0   9.0         1     1      1      1     4\n",
       "1428    170     82      52   20.0   5.0         1     1      0      1     4\n",
       "1510    130     83      46   10.0  10.5         1     1      0      1     7\n",
       "1528    477    119      93   15.0   9.0         1     1      0      1     3\n",
       "1543    100     58      30    6.0  17.0         1     1      0      1     4\n",
       "1550     85     59      44    6.0   7.0         1     1      0      1     5\n",
       "1554    170     98      73   12.0   6.0         1     1      1      0     6\n",
       "1619    130     74      45   10.0  12.0         1     1      0      1     1\n",
       "1757    160     90      60   12.0  12.7         1     1      1      1     5\n",
       "1783    160     84      50    9.0  12.7         1     1      0      1     5\n",
       "1789    210     71      45    6.0   9.0         1     1      1      1     4\n",
       "1840     87     54      34    6.0  17.0         1     1      0      1     4\n",
       "1875    169     84      62   10.0   6.5         1     1      0      1     2\n",
       "1963    215     90      61    9.0   9.0         1     1      1      1     3"
      ]
     },
     "execution_count": 122,
     "metadata": {},
     "output_type": "execute_result"
    }
   ],
   "source": [
    "df.query('metrdist == 1')"
   ]
  },
  {
   "cell_type": "markdown",
   "id": "5f6da1f4",
   "metadata": {},
   "source": [
    "# Категориальные столбцы"
   ]
  },
  {
   "cell_type": "code",
   "execution_count": 123,
   "id": "5bd9ed7b",
   "metadata": {},
   "outputs": [
    {
     "data": {
      "text/plain": [
       "<AxesSubplot:>"
      ]
     },
     "execution_count": 123,
     "metadata": {},
     "output_type": "execute_result"
    },
    {
     "data": {
      "image/png": "[encoded data removed]",
      "text/plain": [
       "<Figure size 1500x1000 with 1 Axes>"
      ]
     },
     "metadata": {},
     "output_type": "display_data"
    }
   ],
   "source": [
    "plt.figure(figsize=(15,10))\n",
    "df['code'].value_counts().plot.bar()"
   ]
  },
  {
   "cell_type": "code",
   "execution_count": 124,
   "id": "5a2d88a8",
   "metadata": {
    "scrolled": false
   },
   "outputs": [
    {
     "data": {
      "text/plain": [
       "<AxesSubplot:xlabel='code', ylabel='price'>"
      ]
     },
     "execution_count": 124,
     "metadata": {},
     "output_type": "execute_result"
    },
    {
     "data": {
      "image/png": "[encoded data removed]",
      "text/plain": [
       "<Figure size 1500x1000 with 1 Axes>"
      ]
     },
     "metadata": {},
     "output_type": "display_data"
    }
   ],
   "source": [
    "plt.figure(figsize=(15,10))\n",
    "sns.barplot(x=df.code, y=df.price)"
   ]
  },
  {
   "cell_type": "markdown",
   "id": "424c87e1",
   "metadata": {},
   "source": [
    "Из районов можно выделить 4 \"хороших\" - 1, 3, 4, 8. Сделаем это отдельным признаком и посмотрим на результаты"
   ]
  },
  {
   "cell_type": "markdown",
   "id": "3fa84336",
   "metadata": {},
   "source": [
    "# Бинарные столбцы"
   ]
  },
  {
   "cell_type": "code",
   "execution_count": 125,
   "id": "ecff4db1",
   "metadata": {},
   "outputs": [
    {
     "data": {
      "text/plain": [
       "<AxesSubplot:xlabel='walk', ylabel='count'>"
      ]
     },
     "execution_count": 125,
     "metadata": {},
     "output_type": "execute_result"
    },
    {
     "data": {
      "image/png": "[encoded data removed]",
      "text/plain": [
       "<Figure size 1500x1000 with 1 Axes>"
      ]
     },
     "metadata": {},
     "output_type": "display_data"
    }
   ],
   "source": [
    "plt.figure(figsize=(15,10))\n",
    "sns.countplot(data=df, x='walk')"
   ]
  },
  {
   "cell_type": "code",
   "execution_count": 126,
   "id": "e4a92ba7",
   "metadata": {},
   "outputs": [
    {
     "data": {
      "text/plain": [
       "<AxesSubplot:xlabel='walk', ylabel='price'>"
      ]
     },
     "execution_count": 126,
     "metadata": {},
     "output_type": "execute_result"
    },
    {
     "data": {
      "image/png": "[encoded data removed]",
      "text/plain": [
       "<Figure size 1500x1000 with 1 Axes>"
      ]
     },
     "metadata": {},
     "output_type": "display_data"
    }
   ],
   "source": [
    "plt.figure(figsize=(15,10))\n",
    "sns.barplot(x=df.walk, y=df.price)"
   ]
  },
  {
   "cell_type": "code",
   "execution_count": 127,
   "id": "def801f8",
   "metadata": {},
   "outputs": [
    {
     "data": {
      "text/plain": [
       "<AxesSubplot:xlabel='walk', ylabel='totsp'>"
      ]
     },
     "execution_count": 127,
     "metadata": {},
     "output_type": "execute_result"
    },
    {
     "data": {
      "image/png": "[encoded data removed]",
      "text/plain": [
       "<Figure size 1500x1000 with 1 Axes>"
      ]
     },
     "metadata": {},
     "output_type": "display_data"
    }
   ],
   "source": [
    "plt.figure(figsize=(15,10))\n",
    "sns.barplot(x=df.walk, y=df.totsp)"
   ]
  },
  {
   "cell_type": "markdown",
   "id": "bddb4346",
   "metadata": {},
   "source": [
    "При этом явно видно, что возможность добраться до метро добавляет стоимости, то есть не столь важна удаленность, сколько возможность"
   ]
  },
  {
   "cell_type": "code",
   "execution_count": 128,
   "id": "a8bff67e",
   "metadata": {},
   "outputs": [
    {
     "data": {
      "text/plain": [
       "<AxesSubplot:xlabel='brick', ylabel='count'>"
      ]
     },
     "execution_count": 128,
     "metadata": {},
     "output_type": "execute_result"
    },
    {
     "data": {
      "image/png": "[encoded data removed]",
      "text/plain": [
       "<Figure size 1500x1000 with 1 Axes>"
      ]
     },
     "metadata": {},
     "output_type": "display_data"
    }
   ],
   "source": [
    "plt.figure(figsize=(15,10))\n",
    "sns.countplot(data=df, x='brick')"
   ]
  },
  {
   "cell_type": "code",
   "execution_count": 129,
   "id": "7a2f1e2d",
   "metadata": {},
   "outputs": [
    {
     "data": {
      "text/plain": [
       "<AxesSubplot:xlabel='brick', ylabel='price'>"
      ]
     },
     "execution_count": 129,
     "metadata": {},
     "output_type": "execute_result"
    },
    {
     "data": {
      "image/png": "[encoded data removed]",
      "text/plain": [
       "<Figure size 1500x1000 with 1 Axes>"
      ]
     },
     "metadata": {},
     "output_type": "display_data"
    }
   ],
   "source": [
    "plt.figure(figsize=(15,10))\n",
    "sns.barplot(x=df.brick, y=df.price)"
   ]
  },
  {
   "cell_type": "code",
   "execution_count": 130,
   "id": "0fea79f6",
   "metadata": {},
   "outputs": [
    {
     "data": {
      "text/plain": [
       "<AxesSubplot:xlabel='brick', ylabel='totsp'>"
      ]
     },
     "execution_count": 130,
     "metadata": {},
     "output_type": "execute_result"
    },
    {
     "data": {
      "image/png": "[encoded data removed]",
      "text/plain": [
       "<Figure size 1500x1000 with 1 Axes>"
      ]
     },
     "metadata": {},
     "output_type": "display_data"
    }
   ],
   "source": [
    "plt.figure(figsize=(15,10))\n",
    "sns.barplot(x=df.brick, y=df.totsp)"
   ]
  },
  {
   "cell_type": "markdown",
   "id": "996b109a",
   "metadata": {},
   "source": [
    "Дома из кирпича/монолитного ж/б существенно дороже обычных"
   ]
  },
  {
   "cell_type": "code",
   "execution_count": 131,
   "id": "6d98cdda",
   "metadata": {},
   "outputs": [
    {
     "data": {
      "text/plain": [
       "<AxesSubplot:xlabel='floor', ylabel='count'>"
      ]
     },
     "execution_count": 131,
     "metadata": {},
     "output_type": "execute_result"
    },
    {
     "data": {
      "image/png": "[encoded data removed]",
      "text/plain": [
       "<Figure size 640x480 with 1 Axes>"
      ]
     },
     "metadata": {},
     "output_type": "display_data"
    }
   ],
   "source": [
    "sns.countplot(data=df, x='floor')"
   ]
  },
  {
   "cell_type": "code",
   "execution_count": 132,
   "id": "d06b8305",
   "metadata": {},
   "outputs": [
    {
     "data": {
      "text/plain": [
       "<AxesSubplot:xlabel='floor', ylabel='price'>"
      ]
     },
     "execution_count": 132,
     "metadata": {},
     "output_type": "execute_result"
    },
    {
     "data": {
      "image/png": "[encoded data removed]",
      "text/plain": [
       "<Figure size 1500x1000 with 1 Axes>"
      ]
     },
     "metadata": {},
     "output_type": "display_data"
    }
   ],
   "source": [
    "plt.figure(figsize=(15,10))\n",
    "sns.barplot(x=df.floor, y=df.price)"
   ]
  },
  {
   "cell_type": "code",
   "execution_count": 133,
   "id": "0b0957da",
   "metadata": {},
   "outputs": [
    {
     "data": {
      "text/plain": [
       "<AxesSubplot:xlabel='floor', ylabel='totsp'>"
      ]
     },
     "execution_count": 133,
     "metadata": {},
     "output_type": "execute_result"
    },
    {
     "data": {
      "image/png": "[encoded data removed]",
      "text/plain": [
       "<Figure size 1500x1000 with 1 Axes>"
      ]
     },
     "metadata": {},
     "output_type": "display_data"
    }
   ],
   "source": [
    "plt.figure(figsize=(15,10))\n",
    "sns.barplot(x=df.floor, y=df.totsp)"
   ]
  },
  {
   "cell_type": "markdown",
   "id": "77115421",
   "metadata": {},
   "source": [
    "Этаж уже меньше влияет на цену, однако зависимость все равно есть"
   ]
  },
  {
   "cell_type": "code",
   "execution_count": 134,
   "id": "c3b38ba6",
   "metadata": {},
   "outputs": [
    {
     "data": {
      "text/plain": [
       "<AxesSubplot:>"
      ]
     },
     "execution_count": 134,
     "metadata": {},
     "output_type": "execute_result"
    },
    {
     "data": {
      "image/png": "[encoded data removed]",
      "text/plain": [
       "<Figure size 640x480 with 2 Axes>"
      ]
     },
     "metadata": {},
     "output_type": "display_data"
    }
   ],
   "source": [
    "corr = df.corr()\n",
    "sns.heatmap(corr)"
   ]
  },
  {
   "cell_type": "markdown",
   "id": "61406e4f",
   "metadata": {},
   "source": [
    "# Сравнение моделей машинного обучения"
   ]
  },
  {
   "cell_type": "code",
   "execution_count": 135,
   "id": "c7a1b1e1",
   "metadata": {},
   "outputs": [],
   "source": [
    "X = df.drop(['price'], axis=1).values\n",
    "Y = df['price'].values\n",
    "\n",
    "test_size = 0.25\n",
    "r_state = 123\n",
    "X_train, X_test, y_train, y_test = train_test_split(X, Y, test_size=test_size, random_state=r_state)"
   ]
  },
  {
   "cell_type": "code",
   "execution_count": 136,
   "id": "6b6fcfbc",
   "metadata": {
    "scrolled": false
   },
   "outputs": [
    {
     "name": "stdout",
     "output_type": "stream",
     "text": [
      "MSE:  1414.8003514227987\n",
      "MAE:  19.93765320500569\n",
      "RMSE:  37.61383191623526\n",
      "R2:  0.6580320454547784\n"
     ]
    }
   ],
   "source": [
    "linear_regressor = LinearRegression()\n",
    "linear_regressor.fit(X_train, y_train)\n",
    "probs = linear_regressor.predict(X_test)\n",
    "print('MSE: ', mean_squared_error(y_test, probs))\n",
    "print('MAE: ', mean_absolute_error(y_test, probs))\n",
    "print('RMSE: ', math.sqrt(mean_squared_error(y_test, probs)))\n",
    "print('R2: ', r2_score(y_test, probs))"
   ]
  },
  {
   "cell_type": "code",
   "execution_count": 161,
   "id": "2fe3c761",
   "metadata": {},
   "outputs": [
    {
     "name": "stdout",
     "output_type": "stream",
     "text": [
      "MSE:  1033.808040168691\n",
      "MAE:  16.609545798319324\n",
      "RMSE:  32.15288540969054\n",
      "R2:  0.7501207710802704\n"
     ]
    }
   ],
   "source": [
    "rf_regressor = RandomForestRegressor()\n",
    "rf_regressor.fit(X_train, y_train)\n",
    "probs = rf_regressor.predict(X_test)\n",
    "print('MSE: ', mean_squared_error(y_test, probs))\n",
    "print('MAE: ', mean_absolute_error(y_test, probs))\n",
    "print('RMSE: ', math.sqrt(mean_squared_error(y_test, probs)))\n",
    "print('R2: ', r2_score(y_test, probs))"
   ]
  },
  {
   "cell_type": "code",
   "execution_count": 138,
   "id": "90b673a1",
   "metadata": {},
   "outputs": [
    {
     "name": "stdout",
     "output_type": "stream",
     "text": [
      "MSE:  1829.3063180827887\n",
      "MAE:  21.71503267973856\n",
      "RMSE:  42.7703906702147\n",
      "R2:  0.5578428156295543\n"
     ]
    }
   ],
   "source": [
    "tree_regressor = DecisionTreeRegressor()\n",
    "tree_regressor.fit(X_train, y_train)\n",
    "probs = tree_regressor.predict(X_test)\n",
    "print('MSE: ', mean_squared_error(y_test, probs))\n",
    "print('MAE: ', mean_absolute_error(y_test, probs))\n",
    "print('RMSE: ', math.sqrt(mean_squared_error(y_test, probs)))\n",
    "print('R2: ', r2_score(y_test, probs))"
   ]
  },
  {
   "cell_type": "code",
   "execution_count": 139,
   "id": "c3f40a67",
   "metadata": {},
   "outputs": [
    {
     "name": "stdout",
     "output_type": "stream",
     "text": [
      "MSE:  1253.5619607843137\n",
      "MAE:  18.976078431372546\n",
      "RMSE:  35.405676957012325\n",
      "R2:  0.6970045849974469\n"
     ]
    }
   ],
   "source": [
    "kn_regressor = KNeighborsRegressor()\n",
    "kn_regressor.fit(X_train, y_train)\n",
    "probs = kn_regressor.predict(X_test)\n",
    "print('MSE: ', mean_squared_error(y_test, probs))\n",
    "print('MAE: ', mean_absolute_error(y_test, probs))\n",
    "print('RMSE: ', math.sqrt(mean_squared_error(y_test, probs)))\n",
    "print('R2: ', r2_score(y_test, probs))"
   ]
  },
  {
   "cell_type": "code",
   "execution_count": 140,
   "id": "fef3308d",
   "metadata": {},
   "outputs": [
    {
     "name": "stdout",
     "output_type": "stream",
     "text": [
      "MSE:  2740.56836028404\n",
      "MAE:  25.351481968053584\n",
      "RMSE:  52.35043801425199\n",
      "R2:  0.33758388205431245\n"
     ]
    }
   ],
   "source": [
    "svr_regressor = SVR()\n",
    "svr_regressor.fit(X_train, y_train)\n",
    "probs = svr_regressor.predict(X_test)\n",
    "print('MSE: ', mean_squared_error(y_test, probs))\n",
    "print('MAE: ', mean_absolute_error(y_test, probs))\n",
    "print('RMSE: ', math.sqrt(mean_squared_error(y_test, probs)))\n",
    "print('R2: ', r2_score(y_test, probs))"
   ]
  },
  {
   "cell_type": "code",
   "execution_count": 141,
   "id": "0d968470",
   "metadata": {},
   "outputs": [
    {
     "name": "stdout",
     "output_type": "stream",
     "text": [
      "MSE:  1332.6081358180945\n",
      "MAE:  19.473155307926973\n",
      "RMSE:  36.50490564044913\n",
      "R2:  0.6778985261363917\n"
     ]
    },
    {
     "name": "stderr",
     "output_type": "stream",
     "text": [
      "C:\\ProgramData\\Anaconda3\\lib\\site-packages\\sklearn\\neural_network\\_multilayer_perceptron.py:692: ConvergenceWarning: Stochastic Optimizer: Maximum iterations (200) reached and the optimization hasn't converged yet.\n",
      "  warnings.warn(\n"
     ]
    }
   ],
   "source": [
    "nn_regressor = MLPRegressor()\n",
    "nn_regressor.fit(X_train, y_train)\n",
    "probs = nn_regressor.predict(X_test)\n",
    "print('MSE: ', mean_squared_error(y_test, probs))\n",
    "print('MAE: ', mean_absolute_error(y_test, probs))\n",
    "print('RMSE: ', math.sqrt(mean_squared_error(y_test, probs)))\n",
    "print('R2: ', r2_score(y_test, probs))"
   ]
  },
  {
   "cell_type": "code",
   "execution_count": 142,
   "id": "17e66dab",
   "metadata": {},
   "outputs": [
    {
     "name": "stdout",
     "output_type": "stream",
     "text": [
      "MSE:  1231.6380583899145\n",
      "MAE:  17.89168066884957\n",
      "RMSE:  35.094701286517804\n",
      "R2:  0.7023037581634148\n"
     ]
    }
   ],
   "source": [
    "xgb_regressor = XGBRegressor()\n",
    "xgb_regressor.fit(X_train, y_train)\n",
    "probs = xgb_regressor.predict(X_test)\n",
    "print('MSE: ', mean_squared_error(y_test, probs))\n",
    "print('MAE: ', mean_absolute_error(y_test, probs))\n",
    "print('RMSE: ', math.sqrt(mean_squared_error(y_test, probs)))\n",
    "print('R2: ', r2_score(y_test, probs))"
   ]
  },
  {
   "cell_type": "markdown",
   "id": "e94c3aca",
   "metadata": {},
   "source": [
    "Лучший результат показал случайный лес, дальше будем работать с ним"
   ]
  },
  {
   "cell_type": "markdown",
   "id": "0496e32e",
   "metadata": {},
   "source": [
    "# Аномальные данные"
   ]
  },
  {
   "cell_type": "markdown",
   "id": "96b45086",
   "metadata": {},
   "source": [
    "Из boxplot видно несколько квартир которые сильно отличаются соотнешением размер/цена от остальных, попробуем рассмотреть их подробнее"
   ]
  },
  {
   "cell_type": "code",
   "execution_count": 153,
   "id": "3b02b125",
   "metadata": {},
   "outputs": [
    {
     "data": {
      "text/html": [
       "<div>\n",
       "<style scoped>\n",
       "    .dataframe tbody tr th:only-of-type {\n",
       "        vertical-align: middle;\n",
       "    }\n",
       "\n",
       "    .dataframe tbody tr th {\n",
       "        vertical-align: top;\n",
       "    }\n",
       "\n",
       "    .dataframe thead th {\n",
       "        text-align: right;\n",
       "    }\n",
       "</style>\n",
       "<table border=\"1\" class=\"dataframe\">\n",
       "  <thead>\n",
       "    <tr style=\"text-align: right;\">\n",
       "      <th></th>\n",
       "      <th>price</th>\n",
       "      <th>totsp</th>\n",
       "      <th>livesp</th>\n",
       "      <th>kitsp</th>\n",
       "      <th>dist</th>\n",
       "      <th>metrdist</th>\n",
       "      <th>walk</th>\n",
       "      <th>brick</th>\n",
       "      <th>floor</th>\n",
       "      <th>code</th>\n",
       "    </tr>\n",
       "  </thead>\n",
       "  <tbody>\n",
       "    <tr>\n",
       "      <th>966</th>\n",
       "      <td>730</td>\n",
       "      <td>134</td>\n",
       "      <td>102</td>\n",
       "      <td>10.0</td>\n",
       "      <td>9.0</td>\n",
       "      <td>10</td>\n",
       "      <td>1</td>\n",
       "      <td>1</td>\n",
       "      <td>1</td>\n",
       "      <td>4</td>\n",
       "    </tr>\n",
       "    <tr>\n",
       "      <th>1656</th>\n",
       "      <td>530</td>\n",
       "      <td>150</td>\n",
       "      <td>80</td>\n",
       "      <td>15.0</td>\n",
       "      <td>7.5</td>\n",
       "      <td>7</td>\n",
       "      <td>1</td>\n",
       "      <td>1</td>\n",
       "      <td>1</td>\n",
       "      <td>3</td>\n",
       "    </tr>\n",
       "  </tbody>\n",
       "</table>\n",
       "</div>"
      ],
      "text/plain": [
       "      price  totsp  livesp  kitsp  dist  metrdist  walk  brick  floor  code\n",
       "966     730    134     102   10.0   9.0        10     1      1      1     4\n",
       "1656    530    150      80   15.0   7.5         7     1      1      1     3"
      ]
     },
     "execution_count": 153,
     "metadata": {},
     "output_type": "execute_result"
    }
   ],
   "source": [
    "df.query('price > 500')"
   ]
  },
  {
   "cell_type": "code",
   "execution_count": 154,
   "id": "e64778dd",
   "metadata": {},
   "outputs": [
    {
     "data": {
      "text/html": [
       "<div>\n",
       "<style scoped>\n",
       "    .dataframe tbody tr th:only-of-type {\n",
       "        vertical-align: middle;\n",
       "    }\n",
       "\n",
       "    .dataframe tbody tr th {\n",
       "        vertical-align: top;\n",
       "    }\n",
       "\n",
       "    .dataframe thead th {\n",
       "        text-align: right;\n",
       "    }\n",
       "</style>\n",
       "<table border=\"1\" class=\"dataframe\">\n",
       "  <thead>\n",
       "    <tr style=\"text-align: right;\">\n",
       "      <th></th>\n",
       "      <th>price</th>\n",
       "      <th>totsp</th>\n",
       "      <th>livesp</th>\n",
       "      <th>kitsp</th>\n",
       "      <th>dist</th>\n",
       "      <th>metrdist</th>\n",
       "      <th>walk</th>\n",
       "      <th>brick</th>\n",
       "      <th>floor</th>\n",
       "      <th>code</th>\n",
       "    </tr>\n",
       "  </thead>\n",
       "  <tbody>\n",
       "    <tr>\n",
       "      <th>624</th>\n",
       "      <td>455</td>\n",
       "      <td>192</td>\n",
       "      <td>92</td>\n",
       "      <td>18.0</td>\n",
       "      <td>7.5</td>\n",
       "      <td>5</td>\n",
       "      <td>1</td>\n",
       "      <td>0</td>\n",
       "      <td>1</td>\n",
       "      <td>3</td>\n",
       "    </tr>\n",
       "  </tbody>\n",
       "</table>\n",
       "</div>"
      ],
      "text/plain": [
       "     price  totsp  livesp  kitsp  dist  metrdist  walk  brick  floor  code\n",
       "624    455    192      92   18.0   7.5         5     1      0      1     3"
      ]
     },
     "execution_count": 154,
     "metadata": {},
     "output_type": "execute_result"
    }
   ],
   "source": [
    "df.query('totsp > 180')"
   ]
  },
  {
   "cell_type": "code",
   "execution_count": 155,
   "id": "87a4ae63",
   "metadata": {},
   "outputs": [
    {
     "data": {
      "text/html": [
       "<div>\n",
       "<style scoped>\n",
       "    .dataframe tbody tr th:only-of-type {\n",
       "        vertical-align: middle;\n",
       "    }\n",
       "\n",
       "    .dataframe tbody tr th {\n",
       "        vertical-align: top;\n",
       "    }\n",
       "\n",
       "    .dataframe thead th {\n",
       "        text-align: right;\n",
       "    }\n",
       "</style>\n",
       "<table border=\"1\" class=\"dataframe\">\n",
       "  <thead>\n",
       "    <tr style=\"text-align: right;\">\n",
       "      <th></th>\n",
       "      <th>price</th>\n",
       "      <th>totsp</th>\n",
       "      <th>livesp</th>\n",
       "      <th>kitsp</th>\n",
       "      <th>dist</th>\n",
       "      <th>metrdist</th>\n",
       "      <th>walk</th>\n",
       "      <th>brick</th>\n",
       "      <th>floor</th>\n",
       "      <th>code</th>\n",
       "    </tr>\n",
       "  </thead>\n",
       "  <tbody>\n",
       "    <tr>\n",
       "      <th>624</th>\n",
       "      <td>455</td>\n",
       "      <td>192</td>\n",
       "      <td>92</td>\n",
       "      <td>18.0</td>\n",
       "      <td>7.5</td>\n",
       "      <td>5</td>\n",
       "      <td>1</td>\n",
       "      <td>0</td>\n",
       "      <td>1</td>\n",
       "      <td>3</td>\n",
       "    </tr>\n",
       "    <tr>\n",
       "      <th>966</th>\n",
       "      <td>730</td>\n",
       "      <td>134</td>\n",
       "      <td>102</td>\n",
       "      <td>10.0</td>\n",
       "      <td>9.0</td>\n",
       "      <td>10</td>\n",
       "      <td>1</td>\n",
       "      <td>1</td>\n",
       "      <td>1</td>\n",
       "      <td>4</td>\n",
       "    </tr>\n",
       "    <tr>\n",
       "      <th>1528</th>\n",
       "      <td>477</td>\n",
       "      <td>119</td>\n",
       "      <td>93</td>\n",
       "      <td>15.0</td>\n",
       "      <td>9.0</td>\n",
       "      <td>1</td>\n",
       "      <td>1</td>\n",
       "      <td>0</td>\n",
       "      <td>1</td>\n",
       "      <td>3</td>\n",
       "    </tr>\n",
       "  </tbody>\n",
       "</table>\n",
       "</div>"
      ],
      "text/plain": [
       "      price  totsp  livesp  kitsp  dist  metrdist  walk  brick  floor  code\n",
       "624     455    192      92   18.0   7.5         5     1      0      1     3\n",
       "966     730    134     102   10.0   9.0        10     1      1      1     4\n",
       "1528    477    119      93   15.0   9.0         1     1      0      1     3"
      ]
     },
     "execution_count": 155,
     "metadata": {},
     "output_type": "execute_result"
    }
   ],
   "source": [
    "df.query('livesp > 90')"
   ]
  },
  {
   "cell_type": "code",
   "execution_count": 156,
   "id": "25a5c1d8",
   "metadata": {},
   "outputs": [
    {
     "data": {
      "text/html": [
       "<div>\n",
       "<style scoped>\n",
       "    .dataframe tbody tr th:only-of-type {\n",
       "        vertical-align: middle;\n",
       "    }\n",
       "\n",
       "    .dataframe tbody tr th {\n",
       "        vertical-align: top;\n",
       "    }\n",
       "\n",
       "    .dataframe thead th {\n",
       "        text-align: right;\n",
       "    }\n",
       "</style>\n",
       "<table border=\"1\" class=\"dataframe\">\n",
       "  <thead>\n",
       "    <tr style=\"text-align: right;\">\n",
       "      <th></th>\n",
       "      <th>price</th>\n",
       "      <th>totsp</th>\n",
       "      <th>livesp</th>\n",
       "      <th>kitsp</th>\n",
       "      <th>dist</th>\n",
       "      <th>metrdist</th>\n",
       "      <th>walk</th>\n",
       "      <th>brick</th>\n",
       "      <th>floor</th>\n",
       "      <th>code</th>\n",
       "    </tr>\n",
       "  </thead>\n",
       "  <tbody>\n",
       "    <tr>\n",
       "      <th>520</th>\n",
       "      <td>190</td>\n",
       "      <td>106</td>\n",
       "      <td>58</td>\n",
       "      <td>24.0</td>\n",
       "      <td>9.0</td>\n",
       "      <td>5</td>\n",
       "      <td>0</td>\n",
       "      <td>0</td>\n",
       "      <td>1</td>\n",
       "      <td>4</td>\n",
       "    </tr>\n",
       "    <tr>\n",
       "      <th>667</th>\n",
       "      <td>240</td>\n",
       "      <td>105</td>\n",
       "      <td>55</td>\n",
       "      <td>23.0</td>\n",
       "      <td>10.0</td>\n",
       "      <td>5</td>\n",
       "      <td>1</td>\n",
       "      <td>0</td>\n",
       "      <td>1</td>\n",
       "      <td>6</td>\n",
       "    </tr>\n",
       "    <tr>\n",
       "      <th>1119</th>\n",
       "      <td>252</td>\n",
       "      <td>132</td>\n",
       "      <td>74</td>\n",
       "      <td>23.0</td>\n",
       "      <td>12.5</td>\n",
       "      <td>3</td>\n",
       "      <td>1</td>\n",
       "      <td>1</td>\n",
       "      <td>0</td>\n",
       "      <td>3</td>\n",
       "    </tr>\n",
       "    <tr>\n",
       "      <th>1126</th>\n",
       "      <td>153</td>\n",
       "      <td>80</td>\n",
       "      <td>40</td>\n",
       "      <td>25.0</td>\n",
       "      <td>10.5</td>\n",
       "      <td>10</td>\n",
       "      <td>0</td>\n",
       "      <td>0</td>\n",
       "      <td>1</td>\n",
       "      <td>3</td>\n",
       "    </tr>\n",
       "    <tr>\n",
       "      <th>1684</th>\n",
       "      <td>145</td>\n",
       "      <td>76</td>\n",
       "      <td>44</td>\n",
       "      <td>24.0</td>\n",
       "      <td>12.7</td>\n",
       "      <td>2</td>\n",
       "      <td>1</td>\n",
       "      <td>0</td>\n",
       "      <td>0</td>\n",
       "      <td>5</td>\n",
       "    </tr>\n",
       "  </tbody>\n",
       "</table>\n",
       "</div>"
      ],
      "text/plain": [
       "      price  totsp  livesp  kitsp  dist  metrdist  walk  brick  floor  code\n",
       "520     190    106      58   24.0   9.0         5     0      0      1     4\n",
       "667     240    105      55   23.0  10.0         5     1      0      1     6\n",
       "1119    252    132      74   23.0  12.5         3     1      1      0     3\n",
       "1126    153     80      40   25.0  10.5        10     0      0      1     3\n",
       "1684    145     76      44   24.0  12.7         2     1      0      0     5"
      ]
     },
     "execution_count": 156,
     "metadata": {},
     "output_type": "execute_result"
    }
   ],
   "source": [
    "df.query('kitsp > 22.5')"
   ]
  },
  {
   "cell_type": "code",
   "execution_count": 157,
   "id": "6a7c6ac1",
   "metadata": {},
   "outputs": [
    {
     "data": {
      "text/html": [
       "<div>\n",
       "<style scoped>\n",
       "    .dataframe tbody tr th:only-of-type {\n",
       "        vertical-align: middle;\n",
       "    }\n",
       "\n",
       "    .dataframe tbody tr th {\n",
       "        vertical-align: top;\n",
       "    }\n",
       "\n",
       "    .dataframe thead th {\n",
       "        text-align: right;\n",
       "    }\n",
       "</style>\n",
       "<table border=\"1\" class=\"dataframe\">\n",
       "  <thead>\n",
       "    <tr style=\"text-align: right;\">\n",
       "      <th></th>\n",
       "      <th>price</th>\n",
       "      <th>totsp</th>\n",
       "      <th>livesp</th>\n",
       "      <th>kitsp</th>\n",
       "      <th>dist</th>\n",
       "      <th>metrdist</th>\n",
       "      <th>walk</th>\n",
       "      <th>brick</th>\n",
       "      <th>floor</th>\n",
       "      <th>code</th>\n",
       "    </tr>\n",
       "  </thead>\n",
       "  <tbody>\n",
       "    <tr>\n",
       "      <th>67</th>\n",
       "      <td>100</td>\n",
       "      <td>78</td>\n",
       "      <td>44</td>\n",
       "      <td>8.0</td>\n",
       "      <td>13.5</td>\n",
       "      <td>20</td>\n",
       "      <td>0</td>\n",
       "      <td>0</td>\n",
       "      <td>1</td>\n",
       "      <td>1</td>\n",
       "    </tr>\n",
       "    <tr>\n",
       "      <th>174</th>\n",
       "      <td>50</td>\n",
       "      <td>63</td>\n",
       "      <td>47</td>\n",
       "      <td>7.0</td>\n",
       "      <td>12.0</td>\n",
       "      <td>20</td>\n",
       "      <td>0</td>\n",
       "      <td>1</td>\n",
       "      <td>0</td>\n",
       "      <td>7</td>\n",
       "    </tr>\n",
       "    <tr>\n",
       "      <th>245</th>\n",
       "      <td>225</td>\n",
       "      <td>101</td>\n",
       "      <td>65</td>\n",
       "      <td>15.0</td>\n",
       "      <td>10.5</td>\n",
       "      <td>20</td>\n",
       "      <td>1</td>\n",
       "      <td>1</td>\n",
       "      <td>1</td>\n",
       "      <td>3</td>\n",
       "    </tr>\n",
       "    <tr>\n",
       "      <th>349</th>\n",
       "      <td>123</td>\n",
       "      <td>79</td>\n",
       "      <td>45</td>\n",
       "      <td>13.0</td>\n",
       "      <td>9.0</td>\n",
       "      <td>20</td>\n",
       "      <td>1</td>\n",
       "      <td>0</td>\n",
       "      <td>1</td>\n",
       "      <td>4</td>\n",
       "    </tr>\n",
       "    <tr>\n",
       "      <th>521</th>\n",
       "      <td>132</td>\n",
       "      <td>84</td>\n",
       "      <td>52</td>\n",
       "      <td>11.0</td>\n",
       "      <td>12.7</td>\n",
       "      <td>20</td>\n",
       "      <td>1</td>\n",
       "      <td>0</td>\n",
       "      <td>1</td>\n",
       "      <td>5</td>\n",
       "    </tr>\n",
       "    <tr>\n",
       "      <th>550</th>\n",
       "      <td>107</td>\n",
       "      <td>65</td>\n",
       "      <td>39</td>\n",
       "      <td>8.0</td>\n",
       "      <td>12.5</td>\n",
       "      <td>20</td>\n",
       "      <td>1</td>\n",
       "      <td>0</td>\n",
       "      <td>1</td>\n",
       "      <td>2</td>\n",
       "    </tr>\n",
       "    <tr>\n",
       "      <th>690</th>\n",
       "      <td>100</td>\n",
       "      <td>78</td>\n",
       "      <td>44</td>\n",
       "      <td>9.0</td>\n",
       "      <td>13.5</td>\n",
       "      <td>20</td>\n",
       "      <td>0</td>\n",
       "      <td>0</td>\n",
       "      <td>1</td>\n",
       "      <td>1</td>\n",
       "    </tr>\n",
       "    <tr>\n",
       "      <th>913</th>\n",
       "      <td>110</td>\n",
       "      <td>71</td>\n",
       "      <td>43</td>\n",
       "      <td>10.0</td>\n",
       "      <td>14.5</td>\n",
       "      <td>20</td>\n",
       "      <td>0</td>\n",
       "      <td>0</td>\n",
       "      <td>1</td>\n",
       "      <td>3</td>\n",
       "    </tr>\n",
       "    <tr>\n",
       "      <th>1005</th>\n",
       "      <td>100</td>\n",
       "      <td>72</td>\n",
       "      <td>42</td>\n",
       "      <td>10.0</td>\n",
       "      <td>14.5</td>\n",
       "      <td>20</td>\n",
       "      <td>0</td>\n",
       "      <td>0</td>\n",
       "      <td>0</td>\n",
       "      <td>3</td>\n",
       "    </tr>\n",
       "    <tr>\n",
       "      <th>1608</th>\n",
       "      <td>112</td>\n",
       "      <td>66</td>\n",
       "      <td>44</td>\n",
       "      <td>7.0</td>\n",
       "      <td>8.0</td>\n",
       "      <td>20</td>\n",
       "      <td>1</td>\n",
       "      <td>0</td>\n",
       "      <td>1</td>\n",
       "      <td>1</td>\n",
       "    </tr>\n",
       "    <tr>\n",
       "      <th>1753</th>\n",
       "      <td>123</td>\n",
       "      <td>81</td>\n",
       "      <td>48</td>\n",
       "      <td>9.0</td>\n",
       "      <td>12.0</td>\n",
       "      <td>20</td>\n",
       "      <td>0</td>\n",
       "      <td>0</td>\n",
       "      <td>0</td>\n",
       "      <td>7</td>\n",
       "    </tr>\n",
       "    <tr>\n",
       "      <th>1910</th>\n",
       "      <td>125</td>\n",
       "      <td>66</td>\n",
       "      <td>40</td>\n",
       "      <td>10.0</td>\n",
       "      <td>12.0</td>\n",
       "      <td>20</td>\n",
       "      <td>1</td>\n",
       "      <td>0</td>\n",
       "      <td>1</td>\n",
       "      <td>8</td>\n",
       "    </tr>\n",
       "  </tbody>\n",
       "</table>\n",
       "</div>"
      ],
      "text/plain": [
       "      price  totsp  livesp  kitsp  dist  metrdist  walk  brick  floor  code\n",
       "67      100     78      44    8.0  13.5        20     0      0      1     1\n",
       "174      50     63      47    7.0  12.0        20     0      1      0     7\n",
       "245     225    101      65   15.0  10.5        20     1      1      1     3\n",
       "349     123     79      45   13.0   9.0        20     1      0      1     4\n",
       "521     132     84      52   11.0  12.7        20     1      0      1     5\n",
       "550     107     65      39    8.0  12.5        20     1      0      1     2\n",
       "690     100     78      44    9.0  13.5        20     0      0      1     1\n",
       "913     110     71      43   10.0  14.5        20     0      0      1     3\n",
       "1005    100     72      42   10.0  14.5        20     0      0      0     3\n",
       "1608    112     66      44    7.0   8.0        20     1      0      1     1\n",
       "1753    123     81      48    9.0  12.0        20     0      0      0     7\n",
       "1910    125     66      40   10.0  12.0        20     1      0      1     8"
      ]
     },
     "execution_count": 157,
     "metadata": {},
     "output_type": "execute_result"
    }
   ],
   "source": [
    "df.query('metrdist > 17.5')"
   ]
  },
  {
   "cell_type": "code",
   "execution_count": 158,
   "id": "5f78d1fa",
   "metadata": {},
   "outputs": [
    {
     "data": {
      "text/plain": [
       "<AxesSubplot:xlabel='totsp', ylabel='price'>"
      ]
     },
     "execution_count": 158,
     "metadata": {},
     "output_type": "execute_result"
    },
    {
     "data": {
      "image/png": "[encoded data removed]",
      "text/plain": [
       "<Figure size 1500x1000 with 1 Axes>"
      ]
     },
     "metadata": {},
     "output_type": "display_data"
    }
   ],
   "source": [
    "plt.figure(figsize=(15,10))\n",
    "sns.scatterplot(x=df.totsp, y=df.price)"
   ]
  },
  {
   "cell_type": "code",
   "execution_count": 159,
   "id": "3033ed4b",
   "metadata": {},
   "outputs": [
    {
     "data": {
      "text/plain": [
       "(2038, 10)"
      ]
     },
     "execution_count": 159,
     "metadata": {},
     "output_type": "execute_result"
    }
   ],
   "source": [
    "df.drop(index = [624, 966], inplace = True)\n",
    "df.shape"
   ]
  },
  {
   "cell_type": "markdown",
   "id": "a743812a",
   "metadata": {},
   "source": [
    "# Результаты после"
   ]
  },
  {
   "cell_type": "code",
   "execution_count": 160,
   "id": "ce1f4c33",
   "metadata": {
    "scrolled": false
   },
   "outputs": [
    {
     "name": "stdout",
     "output_type": "stream",
     "text": [
      "MSE:  1414.8003514227987\n",
      "MAE:  19.93765320500569\n",
      "RMSE:  37.61383191623526\n",
      "R2:  0.6580320454547784\n"
     ]
    }
   ],
   "source": [
    "linear_regressor = LinearRegression()\n",
    "linear_regressor.fit(X_train, y_train)\n",
    "probs = linear_regressor.predict(X_test)\n",
    "print('MSE: ', mean_squared_error(y_test, probs))\n",
    "print('MAE: ', mean_absolute_error(y_test, probs))\n",
    "print('RMSE: ', math.sqrt(mean_squared_error(y_test, probs)))\n",
    "print('R2: ', r2_score(y_test, probs))"
   ]
  },
  {
   "cell_type": "code",
   "execution_count": 137,
   "id": "a84fecff",
   "metadata": {},
   "outputs": [
    {
     "name": "stdout",
     "output_type": "stream",
     "text": [
      "MSE:  1000.9853992122871\n",
      "MAE:  16.537959383753503\n",
      "RMSE:  31.638353294890162\n",
      "R2:  0.7580542518567954\n"
     ]
    }
   ],
   "source": [
    "rf_regressor = RandomForestRegressor()\n",
    "rf_regressor.fit(X_train, y_train)\n",
    "probs = rf_regressor.predict(X_test)\n",
    "print('MSE: ', mean_squared_error(y_test, probs))\n",
    "print('MAE: ', mean_absolute_error(y_test, probs))\n",
    "print('RMSE: ', math.sqrt(mean_squared_error(y_test, probs)))\n",
    "print('R2: ', r2_score(y_test, probs))"
   ]
  },
  {
   "cell_type": "code",
   "execution_count": 162,
   "id": "31293563",
   "metadata": {},
   "outputs": [
    {
     "name": "stdout",
     "output_type": "stream",
     "text": [
      "MSE:  2050.270043572985\n",
      "MAE:  22.86013071895425\n",
      "RMSE:  45.279907724872686\n",
      "R2:  0.5044342105506933\n"
     ]
    }
   ],
   "source": [
    "tree_regressor = DecisionTreeRegressor()\n",
    "tree_regressor.fit(X_train, y_train)\n",
    "probs = tree_regressor.predict(X_test)\n",
    "print('MSE: ', mean_squared_error(y_test, probs))\n",
    "print('MAE: ', mean_absolute_error(y_test, probs))\n",
    "print('RMSE: ', math.sqrt(mean_squared_error(y_test, probs)))\n",
    "print('R2: ', r2_score(y_test, probs))"
   ]
  },
  {
   "cell_type": "code",
   "execution_count": 163,
   "id": "bf18fe9f",
   "metadata": {},
   "outputs": [
    {
     "name": "stdout",
     "output_type": "stream",
     "text": [
      "MSE:  1253.5619607843137\n",
      "MAE:  18.976078431372546\n",
      "RMSE:  35.405676957012325\n",
      "R2:  0.6970045849974469\n"
     ]
    }
   ],
   "source": [
    "kn_regressor = KNeighborsRegressor()\n",
    "kn_regressor.fit(X_train, y_train)\n",
    "probs = kn_regressor.predict(X_test)\n",
    "print('MSE: ', mean_squared_error(y_test, probs))\n",
    "print('MAE: ', mean_absolute_error(y_test, probs))\n",
    "print('RMSE: ', math.sqrt(mean_squared_error(y_test, probs)))\n",
    "print('R2: ', r2_score(y_test, probs))"
   ]
  },
  {
   "cell_type": "code",
   "execution_count": 164,
   "id": "17cb9a59",
   "metadata": {},
   "outputs": [
    {
     "name": "stdout",
     "output_type": "stream",
     "text": [
      "MSE:  2740.56836028404\n",
      "MAE:  25.351481968053584\n",
      "RMSE:  52.35043801425199\n",
      "R2:  0.33758388205431245\n"
     ]
    }
   ],
   "source": [
    "svr_regressor = SVR()\n",
    "svr_regressor.fit(X_train, y_train)\n",
    "probs = svr_regressor.predict(X_test)\n",
    "print('MSE: ', mean_squared_error(y_test, probs))\n",
    "print('MAE: ', mean_absolute_error(y_test, probs))\n",
    "print('RMSE: ', math.sqrt(mean_squared_error(y_test, probs)))\n",
    "print('R2: ', r2_score(y_test, probs))"
   ]
  },
  {
   "cell_type": "code",
   "execution_count": 165,
   "id": "b056d398",
   "metadata": {},
   "outputs": [
    {
     "name": "stdout",
     "output_type": "stream",
     "text": [
      "MSE:  1280.625606692762\n",
      "MAE:  18.999438122879198\n",
      "RMSE:  35.78582969127252\n",
      "R2:  0.6904630969178454\n"
     ]
    },
    {
     "name": "stderr",
     "output_type": "stream",
     "text": [
      "C:\\ProgramData\\Anaconda3\\lib\\site-packages\\sklearn\\neural_network\\_multilayer_perceptron.py:692: ConvergenceWarning: Stochastic Optimizer: Maximum iterations (200) reached and the optimization hasn't converged yet.\n",
      "  warnings.warn(\n"
     ]
    }
   ],
   "source": [
    "nn_regressor = MLPRegressor()\n",
    "nn_regressor.fit(X_train, y_train)\n",
    "probs = nn_regressor.predict(X_test)\n",
    "print('MSE: ', mean_squared_error(y_test, probs))\n",
    "print('MAE: ', mean_absolute_error(y_test, probs))\n",
    "print('RMSE: ', math.sqrt(mean_squared_error(y_test, probs)))\n",
    "print('R2: ', r2_score(y_test, probs))"
   ]
  },
  {
   "cell_type": "code",
   "execution_count": 166,
   "id": "83901ebd",
   "metadata": {},
   "outputs": [
    {
     "name": "stdout",
     "output_type": "stream",
     "text": [
      "MSE:  1231.6380583899145\n",
      "MAE:  17.89168066884957\n",
      "RMSE:  35.094701286517804\n",
      "R2:  0.7023037581634148\n"
     ]
    }
   ],
   "source": [
    "xgb_regressor = XGBRegressor()\n",
    "xgb_regressor.fit(X_train, y_train)\n",
    "probs = xgb_regressor.predict(X_test)\n",
    "print('MSE: ', mean_squared_error(y_test, probs))\n",
    "print('MAE: ', mean_absolute_error(y_test, probs))\n",
    "print('RMSE: ', math.sqrt(mean_squared_error(y_test, probs)))\n",
    "print('R2: ', r2_score(y_test, probs))"
   ]
  },
  {
   "cell_type": "markdown",
   "id": "ee9f0a8f",
   "metadata": {},
   "source": [
    "# Добавление новых признаков"
   ]
  },
  {
   "cell_type": "code",
   "execution_count": 167,
   "id": "51ceb615",
   "metadata": {},
   "outputs": [
    {
     "name": "stdout",
     "output_type": "stream",
     "text": [
      "<class 'pandas.core.frame.DataFrame'>\n",
      "Int64Index: 2038 entries, 0 to 2039\n",
      "Data columns (total 10 columns):\n",
      " #   Column    Non-Null Count  Dtype  \n",
      "---  ------    --------------  -----  \n",
      " 0   price     2038 non-null   int64  \n",
      " 1   totsp     2038 non-null   int64  \n",
      " 2   livesp    2038 non-null   int64  \n",
      " 3   kitsp     2038 non-null   float64\n",
      " 4   dist      2038 non-null   float64\n",
      " 5   metrdist  2038 non-null   int64  \n",
      " 6   walk      2038 non-null   int64  \n",
      " 7   brick     2038 non-null   int64  \n",
      " 8   floor     2038 non-null   int64  \n",
      " 9   code      2038 non-null   int64  \n",
      "dtypes: float64(2), int64(8)\n",
      "memory usage: 175.1 KB\n"
     ]
    }
   ],
   "source": [
    "df.info()"
   ]
  },
  {
   "cell_type": "code",
   "execution_count": 168,
   "id": "616ae223",
   "metadata": {},
   "outputs": [],
   "source": [
    "df_ft = df.copy()"
   ]
  },
  {
   "cell_type": "code",
   "execution_count": 169,
   "id": "4dfe5298",
   "metadata": {},
   "outputs": [],
   "source": [
    "X = df_ft.drop(['price'], axis=1).values\n",
    "Y = df_ft['price'].values\n",
    "\n",
    "test_size = 0.25\n",
    "r_state = 123\n",
    "X_train, X_test, y_train, y_test = train_test_split(X, Y, test_size=test_size, random_state=r_state)"
   ]
  },
  {
   "cell_type": "code",
   "execution_count": 170,
   "id": "d52a726a",
   "metadata": {},
   "outputs": [
    {
     "name": "stdout",
     "output_type": "stream",
     "text": [
      "MSE:  476.04333618852763\n",
      "MAE:  14.026035014005602\n",
      "RMSE:  21.818417362139897\n",
      "R2:  0.7502336477543496\n"
     ]
    }
   ],
   "source": [
    "rf_regressor = RandomForestRegressor()\n",
    "rf_regressor.fit(X_train, y_train)\n",
    "probs = rf_regressor.predict(X_test)\n",
    "print('MSE: ', mean_squared_error(y_test, probs))\n",
    "print('MAE: ', mean_absolute_error(y_test, probs))\n",
    "print('RMSE: ', math.sqrt(mean_squared_error(y_test, probs)))\n",
    "print('R2: ', r2_score(y_test, probs))"
   ]
  },
  {
   "cell_type": "code",
   "execution_count": 171,
   "id": "5f702fcb",
   "metadata": {},
   "outputs": [
    {
     "data": {
      "text/html": [
       "<div>\n",
       "<style scoped>\n",
       "    .dataframe tbody tr th:only-of-type {\n",
       "        vertical-align: middle;\n",
       "    }\n",
       "\n",
       "    .dataframe tbody tr th {\n",
       "        vertical-align: top;\n",
       "    }\n",
       "\n",
       "    .dataframe thead th {\n",
       "        text-align: right;\n",
       "    }\n",
       "</style>\n",
       "<table border=\"1\" class=\"dataframe\">\n",
       "  <thead>\n",
       "    <tr style=\"text-align: right;\">\n",
       "      <th></th>\n",
       "      <th>price</th>\n",
       "      <th>totsp</th>\n",
       "      <th>livesp</th>\n",
       "      <th>kitsp</th>\n",
       "      <th>dist</th>\n",
       "      <th>metrdist</th>\n",
       "      <th>walk</th>\n",
       "      <th>brick</th>\n",
       "      <th>floor</th>\n",
       "      <th>code</th>\n",
       "      <th>good_neighbourhood</th>\n",
       "    </tr>\n",
       "  </thead>\n",
       "  <tbody>\n",
       "    <tr>\n",
       "      <th>0</th>\n",
       "      <td>81</td>\n",
       "      <td>58</td>\n",
       "      <td>40</td>\n",
       "      <td>6.0</td>\n",
       "      <td>12.5</td>\n",
       "      <td>7</td>\n",
       "      <td>1</td>\n",
       "      <td>1</td>\n",
       "      <td>1</td>\n",
       "      <td>3</td>\n",
       "      <td>1</td>\n",
       "    </tr>\n",
       "    <tr>\n",
       "      <th>1</th>\n",
       "      <td>75</td>\n",
       "      <td>44</td>\n",
       "      <td>28</td>\n",
       "      <td>6.0</td>\n",
       "      <td>13.5</td>\n",
       "      <td>7</td>\n",
       "      <td>1</td>\n",
       "      <td>0</td>\n",
       "      <td>1</td>\n",
       "      <td>6</td>\n",
       "      <td>0</td>\n",
       "    </tr>\n",
       "    <tr>\n",
       "      <th>2</th>\n",
       "      <td>128</td>\n",
       "      <td>70</td>\n",
       "      <td>42</td>\n",
       "      <td>6.0</td>\n",
       "      <td>14.5</td>\n",
       "      <td>3</td>\n",
       "      <td>1</td>\n",
       "      <td>1</td>\n",
       "      <td>1</td>\n",
       "      <td>3</td>\n",
       "      <td>1</td>\n",
       "    </tr>\n",
       "    <tr>\n",
       "      <th>3</th>\n",
       "      <td>95</td>\n",
       "      <td>61</td>\n",
       "      <td>37</td>\n",
       "      <td>6.0</td>\n",
       "      <td>13.5</td>\n",
       "      <td>7</td>\n",
       "      <td>1</td>\n",
       "      <td>0</td>\n",
       "      <td>1</td>\n",
       "      <td>1</td>\n",
       "      <td>1</td>\n",
       "    </tr>\n",
       "    <tr>\n",
       "      <th>4</th>\n",
       "      <td>330</td>\n",
       "      <td>104</td>\n",
       "      <td>60</td>\n",
       "      <td>11.0</td>\n",
       "      <td>10.5</td>\n",
       "      <td>7</td>\n",
       "      <td>0</td>\n",
       "      <td>1</td>\n",
       "      <td>1</td>\n",
       "      <td>3</td>\n",
       "      <td>1</td>\n",
       "    </tr>\n",
       "  </tbody>\n",
       "</table>\n",
       "</div>"
      ],
      "text/plain": [
       "   price  totsp  livesp  kitsp  dist  metrdist  walk  brick  floor  code  \\\n",
       "0     81     58      40    6.0  12.5         7     1      1      1     3   \n",
       "1     75     44      28    6.0  13.5         7     1      0      1     6   \n",
       "2    128     70      42    6.0  14.5         3     1      1      1     3   \n",
       "3     95     61      37    6.0  13.5         7     1      0      1     1   \n",
       "4    330    104      60   11.0  10.5         7     0      1      1     3   \n",
       "\n",
       "   good_neighbourhood  \n",
       "0                   1  \n",
       "1                   0  \n",
       "2                   1  \n",
       "3                   1  \n",
       "4                   1  "
      ]
     },
     "metadata": {},
     "output_type": "display_data"
    }
   ],
   "source": [
    "def code_map(code):\n",
    "    if code == 2:\n",
    "        return 0\n",
    "    elif code == 5:\n",
    "        return 0\n",
    "    elif code == 6:\n",
    "        return 0\n",
    "    elif code == 7:\n",
    "        return 0\n",
    "    else:\n",
    "        return 1\n",
    " \n",
    "df_ft['good_neighbourhood'] = df_ft['code'].map(code_map)\n",
    "display(df_ft.head())"
   ]
  },
  {
   "cell_type": "code",
   "execution_count": 172,
   "id": "5e158df6",
   "metadata": {},
   "outputs": [],
   "source": [
    "X = df_ft.drop(['price'], axis=1).values\n",
    "Y = df_ft['price'].values\n",
    "\n",
    "test_size = 0.25\n",
    "r_state = 123\n",
    "X_train, X_test, y_train, y_test = train_test_split(X, Y, test_size=test_size, random_state=r_state)"
   ]
  },
  {
   "cell_type": "code",
   "execution_count": 173,
   "id": "8cade9f1",
   "metadata": {},
   "outputs": [
    {
     "name": "stdout",
     "output_type": "stream",
     "text": [
      "MSE:  481.35181306273523\n",
      "MAE:  14.021150108932462\n",
      "RMSE:  21.939731380824497\n",
      "R2:  0.7474484414421114\n"
     ]
    }
   ],
   "source": [
    "rf_regressor = RandomForestRegressor()\n",
    "rf_regressor.fit(X_train, y_train)\n",
    "probs = rf_regressor.predict(X_test)\n",
    "print('MSE: ', mean_squared_error(y_test, probs))\n",
    "print('MAE: ', mean_absolute_error(y_test, probs))\n",
    "print('RMSE: ', math.sqrt(mean_squared_error(y_test, probs)))\n",
    "print('R2: ', r2_score(y_test, probs))"
   ]
  },
  {
   "cell_type": "code",
   "execution_count": 174,
   "id": "ca04dc5d",
   "metadata": {},
   "outputs": [
    {
     "data": {
      "text/html": [
       "<div>\n",
       "<style scoped>\n",
       "    .dataframe tbody tr th:only-of-type {\n",
       "        vertical-align: middle;\n",
       "    }\n",
       "\n",
       "    .dataframe tbody tr th {\n",
       "        vertical-align: top;\n",
       "    }\n",
       "\n",
       "    .dataframe thead th {\n",
       "        text-align: right;\n",
       "    }\n",
       "</style>\n",
       "<table border=\"1\" class=\"dataframe\">\n",
       "  <thead>\n",
       "    <tr style=\"text-align: right;\">\n",
       "      <th></th>\n",
       "      <th>price</th>\n",
       "      <th>totsp</th>\n",
       "      <th>livesp</th>\n",
       "      <th>kitsp</th>\n",
       "      <th>dist</th>\n",
       "      <th>metrdist</th>\n",
       "      <th>walk</th>\n",
       "      <th>brick</th>\n",
       "      <th>floor</th>\n",
       "      <th>good_neighbourhood</th>\n",
       "    </tr>\n",
       "  </thead>\n",
       "  <tbody>\n",
       "    <tr>\n",
       "      <th>0</th>\n",
       "      <td>81</td>\n",
       "      <td>58</td>\n",
       "      <td>40</td>\n",
       "      <td>6.0</td>\n",
       "      <td>12.5</td>\n",
       "      <td>7</td>\n",
       "      <td>1</td>\n",
       "      <td>1</td>\n",
       "      <td>1</td>\n",
       "      <td>1</td>\n",
       "    </tr>\n",
       "    <tr>\n",
       "      <th>1</th>\n",
       "      <td>75</td>\n",
       "      <td>44</td>\n",
       "      <td>28</td>\n",
       "      <td>6.0</td>\n",
       "      <td>13.5</td>\n",
       "      <td>7</td>\n",
       "      <td>1</td>\n",
       "      <td>0</td>\n",
       "      <td>1</td>\n",
       "      <td>0</td>\n",
       "    </tr>\n",
       "    <tr>\n",
       "      <th>2</th>\n",
       "      <td>128</td>\n",
       "      <td>70</td>\n",
       "      <td>42</td>\n",
       "      <td>6.0</td>\n",
       "      <td>14.5</td>\n",
       "      <td>3</td>\n",
       "      <td>1</td>\n",
       "      <td>1</td>\n",
       "      <td>1</td>\n",
       "      <td>1</td>\n",
       "    </tr>\n",
       "    <tr>\n",
       "      <th>3</th>\n",
       "      <td>95</td>\n",
       "      <td>61</td>\n",
       "      <td>37</td>\n",
       "      <td>6.0</td>\n",
       "      <td>13.5</td>\n",
       "      <td>7</td>\n",
       "      <td>1</td>\n",
       "      <td>0</td>\n",
       "      <td>1</td>\n",
       "      <td>1</td>\n",
       "    </tr>\n",
       "    <tr>\n",
       "      <th>4</th>\n",
       "      <td>330</td>\n",
       "      <td>104</td>\n",
       "      <td>60</td>\n",
       "      <td>11.0</td>\n",
       "      <td>10.5</td>\n",
       "      <td>7</td>\n",
       "      <td>0</td>\n",
       "      <td>1</td>\n",
       "      <td>1</td>\n",
       "      <td>1</td>\n",
       "    </tr>\n",
       "  </tbody>\n",
       "</table>\n",
       "</div>"
      ],
      "text/plain": [
       "   price  totsp  livesp  kitsp  dist  metrdist  walk  brick  floor  \\\n",
       "0     81     58      40    6.0  12.5         7     1      1      1   \n",
       "1     75     44      28    6.0  13.5         7     1      0      1   \n",
       "2    128     70      42    6.0  14.5         3     1      1      1   \n",
       "3     95     61      37    6.0  13.5         7     1      0      1   \n",
       "4    330    104      60   11.0  10.5         7     0      1      1   \n",
       "\n",
       "   good_neighbourhood  \n",
       "0                   1  \n",
       "1                   0  \n",
       "2                   1  \n",
       "3                   1  \n",
       "4                   1  "
      ]
     },
     "execution_count": 174,
     "metadata": {},
     "output_type": "execute_result"
    }
   ],
   "source": [
    "df_ft.drop('code', axis = 1, inplace = True)\n",
    "df_ft.head()"
   ]
  },
  {
   "cell_type": "code",
   "execution_count": 175,
   "id": "f11719e8",
   "metadata": {},
   "outputs": [],
   "source": [
    "X = df_ft.drop(['price'], axis=1).values\n",
    "Y = df_ft['price'].values\n",
    "\n",
    "test_size = 0.25\n",
    "r_state = 123\n",
    "X_train, X_test, y_train, y_test = train_test_split(X, Y, test_size=test_size, random_state=r_state)"
   ]
  },
  {
   "cell_type": "code",
   "execution_count": 176,
   "id": "1a3b32f0",
   "metadata": {},
   "outputs": [
    {
     "name": "stdout",
     "output_type": "stream",
     "text": [
      "MSE:  519.9235467205315\n",
      "MAE:  14.487022550434315\n",
      "RMSE:  22.801832091315195\n",
      "R2:  0.7272109536271718\n"
     ]
    }
   ],
   "source": [
    "rf_regressor = RandomForestRegressor()\n",
    "rf_regressor.fit(X_train, y_train)\n",
    "probs = rf_regressor.predict(X_test)\n",
    "print('MSE: ', mean_squared_error(y_test, probs))\n",
    "print('MAE: ', mean_absolute_error(y_test, probs))\n",
    "print('RMSE: ', math.sqrt(mean_squared_error(y_test, probs)))\n",
    "print('R2: ', r2_score(y_test, probs))"
   ]
  },
  {
   "cell_type": "code",
   "execution_count": 177,
   "id": "7a7372dd",
   "metadata": {},
   "outputs": [],
   "source": [
    "df_ft = df.copy()"
   ]
  },
  {
   "cell_type": "code",
   "execution_count": 178,
   "id": "72f34b38",
   "metadata": {},
   "outputs": [],
   "source": [
    "df_ft.drop('metrdist', axis = 1, inplace = True)\n",
    "df_ft.head()\n",
    "X = df_ft.drop(['price'], axis=1).values\n",
    "Y = df_ft['price'].values\n",
    "\n",
    "test_size = 0.25\n",
    "r_state = 123\n",
    "X_train, X_test, y_train, y_test = train_test_split(X, Y, test_size=test_size, random_state=r_state)"
   ]
  },
  {
   "cell_type": "code",
   "execution_count": 179,
   "id": "b0b10823",
   "metadata": {},
   "outputs": [
    {
     "name": "stdout",
     "output_type": "stream",
     "text": [
      "MSE:  487.4458876642095\n",
      "MAE:  14.287921241830066\n",
      "RMSE:  22.078176728711306\n",
      "R2:  0.7442510544232953\n"
     ]
    }
   ],
   "source": [
    "rf_regressor = RandomForestRegressor()\n",
    "rf_regressor.fit(X_train, y_train)\n",
    "probs = rf_regressor.predict(X_test)\n",
    "print('MSE: ', mean_squared_error(y_test, probs))\n",
    "print('MAE: ', mean_absolute_error(y_test, probs))\n",
    "print('RMSE: ', math.sqrt(mean_squared_error(y_test, probs)))\n",
    "print('R2: ', r2_score(y_test, probs))"
   ]
  },
  {
   "cell_type": "code",
   "execution_count": 180,
   "id": "1395edea",
   "metadata": {},
   "outputs": [],
   "source": [
    "df_ft = df.copy()"
   ]
  },
  {
   "cell_type": "code",
   "execution_count": 181,
   "id": "57b62412",
   "metadata": {},
   "outputs": [
    {
     "data": {
      "text/html": [
       "<div>\n",
       "<style scoped>\n",
       "    .dataframe tbody tr th:only-of-type {\n",
       "        vertical-align: middle;\n",
       "    }\n",
       "\n",
       "    .dataframe tbody tr th {\n",
       "        vertical-align: top;\n",
       "    }\n",
       "\n",
       "    .dataframe thead th {\n",
       "        text-align: right;\n",
       "    }\n",
       "</style>\n",
       "<table border=\"1\" class=\"dataframe\">\n",
       "  <thead>\n",
       "    <tr style=\"text-align: right;\">\n",
       "      <th></th>\n",
       "      <th>price</th>\n",
       "      <th>totsp</th>\n",
       "      <th>livesp</th>\n",
       "      <th>kitsp</th>\n",
       "      <th>dist</th>\n",
       "      <th>metrdist</th>\n",
       "      <th>walk</th>\n",
       "      <th>brick</th>\n",
       "      <th>floor</th>\n",
       "      <th>code</th>\n",
       "      <th>close_to_center</th>\n",
       "    </tr>\n",
       "  </thead>\n",
       "  <tbody>\n",
       "    <tr>\n",
       "      <th>0</th>\n",
       "      <td>81</td>\n",
       "      <td>58</td>\n",
       "      <td>40</td>\n",
       "      <td>6.0</td>\n",
       "      <td>12.5</td>\n",
       "      <td>7</td>\n",
       "      <td>1</td>\n",
       "      <td>1</td>\n",
       "      <td>1</td>\n",
       "      <td>3</td>\n",
       "      <td>0</td>\n",
       "    </tr>\n",
       "    <tr>\n",
       "      <th>1</th>\n",
       "      <td>75</td>\n",
       "      <td>44</td>\n",
       "      <td>28</td>\n",
       "      <td>6.0</td>\n",
       "      <td>13.5</td>\n",
       "      <td>7</td>\n",
       "      <td>1</td>\n",
       "      <td>0</td>\n",
       "      <td>1</td>\n",
       "      <td>6</td>\n",
       "      <td>0</td>\n",
       "    </tr>\n",
       "    <tr>\n",
       "      <th>2</th>\n",
       "      <td>128</td>\n",
       "      <td>70</td>\n",
       "      <td>42</td>\n",
       "      <td>6.0</td>\n",
       "      <td>14.5</td>\n",
       "      <td>3</td>\n",
       "      <td>1</td>\n",
       "      <td>1</td>\n",
       "      <td>1</td>\n",
       "      <td>3</td>\n",
       "      <td>0</td>\n",
       "    </tr>\n",
       "    <tr>\n",
       "      <th>3</th>\n",
       "      <td>95</td>\n",
       "      <td>61</td>\n",
       "      <td>37</td>\n",
       "      <td>6.0</td>\n",
       "      <td>13.5</td>\n",
       "      <td>7</td>\n",
       "      <td>1</td>\n",
       "      <td>0</td>\n",
       "      <td>1</td>\n",
       "      <td>1</td>\n",
       "      <td>0</td>\n",
       "    </tr>\n",
       "    <tr>\n",
       "      <th>4</th>\n",
       "      <td>330</td>\n",
       "      <td>104</td>\n",
       "      <td>60</td>\n",
       "      <td>11.0</td>\n",
       "      <td>10.5</td>\n",
       "      <td>7</td>\n",
       "      <td>0</td>\n",
       "      <td>1</td>\n",
       "      <td>1</td>\n",
       "      <td>3</td>\n",
       "      <td>0</td>\n",
       "    </tr>\n",
       "  </tbody>\n",
       "</table>\n",
       "</div>"
      ],
      "text/plain": [
       "   price  totsp  livesp  kitsp  dist  metrdist  walk  brick  floor  code  \\\n",
       "0     81     58      40    6.0  12.5         7     1      1      1     3   \n",
       "1     75     44      28    6.0  13.5         7     1      0      1     6   \n",
       "2    128     70      42    6.0  14.5         3     1      1      1     3   \n",
       "3     95     61      37    6.0  13.5         7     1      0      1     1   \n",
       "4    330    104      60   11.0  10.5         7     0      1      1     3   \n",
       "\n",
       "   close_to_center  \n",
       "0                0  \n",
       "1                0  \n",
       "2                0  \n",
       "3                0  \n",
       "4                0  "
      ]
     },
     "execution_count": 181,
     "metadata": {},
     "output_type": "execute_result"
    }
   ],
   "source": [
    "def center_map(dist):\n",
    "    if dist > 9:\n",
    "        return 0\n",
    "    else:\n",
    "        return 1\n",
    " \n",
    "df_ft['close_to_center'] = df_ft['dist'].map(center_map)\n",
    "df_ft.head()"
   ]
  },
  {
   "cell_type": "code",
   "execution_count": 182,
   "id": "aec50352",
   "metadata": {},
   "outputs": [],
   "source": [
    "X = df_ft.drop(['price'], axis=1).values\n",
    "Y = df_ft['price'].values\n",
    "\n",
    "test_size = 0.25\n",
    "r_state = 123\n",
    "X_train, X_test, y_train, y_test = train_test_split(X, Y, test_size=test_size, random_state=r_state)"
   ]
  },
  {
   "cell_type": "code",
   "execution_count": 183,
   "id": "a663a772",
   "metadata": {},
   "outputs": [
    {
     "name": "stdout",
     "output_type": "stream",
     "text": [
      "MSE:  470.5663054168403\n",
      "MAE:  13.954591566929802\n",
      "RMSE:  21.692540317280507\n",
      "R2:  0.7531072894860759\n"
     ]
    }
   ],
   "source": [
    "rf_regressor = RandomForestRegressor()\n",
    "rf_regressor.fit(X_train, y_train)\n",
    "probs = rf_regressor.predict(X_test)\n",
    "print('MSE: ', mean_squared_error(y_test, probs))\n",
    "print('MAE: ', mean_absolute_error(y_test, probs))\n",
    "print('RMSE: ', math.sqrt(mean_squared_error(y_test, probs)))\n",
    "print('R2: ', r2_score(y_test, probs))"
   ]
  },
  {
   "cell_type": "code",
   "execution_count": 184,
   "id": "fc20f276",
   "metadata": {},
   "outputs": [],
   "source": [
    "df_ft = df.copy()"
   ]
  },
  {
   "cell_type": "code",
   "execution_count": 185,
   "id": "eaeda234",
   "metadata": {},
   "outputs": [
    {
     "data": {
      "text/html": [
       "<div>\n",
       "<style scoped>\n",
       "    .dataframe tbody tr th:only-of-type {\n",
       "        vertical-align: middle;\n",
       "    }\n",
       "\n",
       "    .dataframe tbody tr th {\n",
       "        vertical-align: top;\n",
       "    }\n",
       "\n",
       "    .dataframe thead th {\n",
       "        text-align: right;\n",
       "    }\n",
       "</style>\n",
       "<table border=\"1\" class=\"dataframe\">\n",
       "  <thead>\n",
       "    <tr style=\"text-align: right;\">\n",
       "      <th></th>\n",
       "      <th>price</th>\n",
       "      <th>totsp</th>\n",
       "      <th>livesp</th>\n",
       "      <th>kitsp</th>\n",
       "      <th>dist</th>\n",
       "      <th>metrdist</th>\n",
       "      <th>walk</th>\n",
       "      <th>brick</th>\n",
       "      <th>floor</th>\n",
       "      <th>code</th>\n",
       "      <th>size</th>\n",
       "    </tr>\n",
       "  </thead>\n",
       "  <tbody>\n",
       "    <tr>\n",
       "      <th>0</th>\n",
       "      <td>81</td>\n",
       "      <td>58</td>\n",
       "      <td>40</td>\n",
       "      <td>6.0</td>\n",
       "      <td>12.5</td>\n",
       "      <td>7</td>\n",
       "      <td>1</td>\n",
       "      <td>1</td>\n",
       "      <td>1</td>\n",
       "      <td>3</td>\n",
       "      <td>1</td>\n",
       "    </tr>\n",
       "    <tr>\n",
       "      <th>1</th>\n",
       "      <td>75</td>\n",
       "      <td>44</td>\n",
       "      <td>28</td>\n",
       "      <td>6.0</td>\n",
       "      <td>13.5</td>\n",
       "      <td>7</td>\n",
       "      <td>1</td>\n",
       "      <td>0</td>\n",
       "      <td>1</td>\n",
       "      <td>6</td>\n",
       "      <td>1</td>\n",
       "    </tr>\n",
       "    <tr>\n",
       "      <th>2</th>\n",
       "      <td>128</td>\n",
       "      <td>70</td>\n",
       "      <td>42</td>\n",
       "      <td>6.0</td>\n",
       "      <td>14.5</td>\n",
       "      <td>3</td>\n",
       "      <td>1</td>\n",
       "      <td>1</td>\n",
       "      <td>1</td>\n",
       "      <td>3</td>\n",
       "      <td>2</td>\n",
       "    </tr>\n",
       "    <tr>\n",
       "      <th>3</th>\n",
       "      <td>95</td>\n",
       "      <td>61</td>\n",
       "      <td>37</td>\n",
       "      <td>6.0</td>\n",
       "      <td>13.5</td>\n",
       "      <td>7</td>\n",
       "      <td>1</td>\n",
       "      <td>0</td>\n",
       "      <td>1</td>\n",
       "      <td>1</td>\n",
       "      <td>2</td>\n",
       "    </tr>\n",
       "    <tr>\n",
       "      <th>4</th>\n",
       "      <td>330</td>\n",
       "      <td>104</td>\n",
       "      <td>60</td>\n",
       "      <td>11.0</td>\n",
       "      <td>10.5</td>\n",
       "      <td>7</td>\n",
       "      <td>0</td>\n",
       "      <td>1</td>\n",
       "      <td>1</td>\n",
       "      <td>3</td>\n",
       "      <td>3</td>\n",
       "    </tr>\n",
       "  </tbody>\n",
       "</table>\n",
       "</div>"
      ],
      "text/plain": [
       "   price  totsp  livesp  kitsp  dist  metrdist  walk  brick  floor  code  size\n",
       "0     81     58      40    6.0  12.5         7     1      1      1     3     1\n",
       "1     75     44      28    6.0  13.5         7     1      0      1     6     1\n",
       "2    128     70      42    6.0  14.5         3     1      1      1     3     2\n",
       "3     95     61      37    6.0  13.5         7     1      0      1     1     2\n",
       "4    330    104      60   11.0  10.5         7     0      1      1     3     3"
      ]
     },
     "execution_count": 185,
     "metadata": {},
     "output_type": "execute_result"
    }
   ],
   "source": [
    "def totsp_map(totsp):\n",
    "    if totsp < 60:\n",
    "        return 1\n",
    "    if totsp > 90:\n",
    "        return 3\n",
    "    else:\n",
    "        return 2\n",
    " \n",
    "df_ft['size'] = df_ft['totsp'].map(totsp_map)\n",
    "df_ft.head()"
   ]
  },
  {
   "cell_type": "code",
   "execution_count": 186,
   "id": "84b23262",
   "metadata": {},
   "outputs": [],
   "source": [
    "X = df_ft.drop(['price'], axis=1).values\n",
    "Y = df_ft['price'].values\n",
    "\n",
    "test_size = 0.25\n",
    "r_state = 123\n",
    "X_train, X_test, y_train, y_test = train_test_split(X, Y, test_size=test_size, random_state=r_state)"
   ]
  },
  {
   "cell_type": "code",
   "execution_count": 187,
   "id": "b698312e",
   "metadata": {},
   "outputs": [
    {
     "name": "stdout",
     "output_type": "stream",
     "text": [
      "MSE:  471.44800764882064\n",
      "MAE:  13.863392857142857\n",
      "RMSE:  21.712853512351174\n",
      "R2:  0.7526446854886923\n"
     ]
    }
   ],
   "source": [
    "rf_regressor = RandomForestRegressor()\n",
    "rf_regressor.fit(X_train, y_train)\n",
    "probs = rf_regressor.predict(X_test)\n",
    "print('MSE: ', mean_squared_error(y_test, probs))\n",
    "print('MAE: ', mean_absolute_error(y_test, probs))\n",
    "print('RMSE: ', math.sqrt(mean_squared_error(y_test, probs)))\n",
    "print('R2: ', r2_score(y_test, probs))"
   ]
  },
  {
   "cell_type": "markdown",
   "id": "22a86373",
   "metadata": {},
   "source": [
    "# Кодирование данных"
   ]
  },
  {
   "cell_type": "markdown",
   "id": "3a5e30c8",
   "metadata": {},
   "source": [
    "std = StandardScaler()\n",
    "df[num_cols] = std.fit_transform(df[num_cols])"
   ]
  },
  {
   "cell_type": "code",
   "execution_count": 188,
   "id": "a18eee2c",
   "metadata": {},
   "outputs": [],
   "source": [
    "mapp = {}\n",
    "label_encoder = LabelEncoder()\n",
    "for col in bin_cols:\n",
    "    df[col] = label_encoder.fit_transform(df[col])\n",
    "    mapp[col] = dict(enumerate(label_encoder.classes_))"
   ]
  },
  {
   "cell_type": "code",
   "execution_count": 189,
   "id": "b90f3ed1",
   "metadata": {},
   "outputs": [],
   "source": [
    "mappc = {}\n",
    "enc = OneHotEncoder()\n",
    "for col in cat_cols:\n",
    "    df[col] = label_encoder.fit_transform(df[col])\n",
    "    mappc[col] = dict(enumerate(label_encoder.classes_))"
   ]
  },
  {
   "cell_type": "code",
   "execution_count": 190,
   "id": "bb803ff6",
   "metadata": {},
   "outputs": [],
   "source": [
    "df = pd.get_dummies(df, prefix=cat_cols, columns=cat_cols)"
   ]
  },
  {
   "cell_type": "code",
   "execution_count": 191,
   "id": "cbcd956f",
   "metadata": {},
   "outputs": [
    {
     "data": {
      "text/html": [
       "<div>\n",
       "<style scoped>\n",
       "    .dataframe tbody tr th:only-of-type {\n",
       "        vertical-align: middle;\n",
       "    }\n",
       "\n",
       "    .dataframe tbody tr th {\n",
       "        vertical-align: top;\n",
       "    }\n",
       "\n",
       "    .dataframe thead th {\n",
       "        text-align: right;\n",
       "    }\n",
       "</style>\n",
       "<table border=\"1\" class=\"dataframe\">\n",
       "  <thead>\n",
       "    <tr style=\"text-align: right;\">\n",
       "      <th></th>\n",
       "      <th>price</th>\n",
       "      <th>totsp</th>\n",
       "      <th>livesp</th>\n",
       "      <th>kitsp</th>\n",
       "      <th>dist</th>\n",
       "      <th>metrdist</th>\n",
       "      <th>walk</th>\n",
       "      <th>brick</th>\n",
       "      <th>floor</th>\n",
       "      <th>code_0</th>\n",
       "      <th>code_1</th>\n",
       "      <th>code_2</th>\n",
       "      <th>code_3</th>\n",
       "      <th>code_4</th>\n",
       "      <th>code_5</th>\n",
       "      <th>code_6</th>\n",
       "      <th>code_7</th>\n",
       "    </tr>\n",
       "  </thead>\n",
       "  <tbody>\n",
       "    <tr>\n",
       "      <th>0</th>\n",
       "      <td>81</td>\n",
       "      <td>58</td>\n",
       "      <td>40</td>\n",
       "      <td>6.0</td>\n",
       "      <td>12.5</td>\n",
       "      <td>7</td>\n",
       "      <td>1</td>\n",
       "      <td>1</td>\n",
       "      <td>1</td>\n",
       "      <td>0</td>\n",
       "      <td>0</td>\n",
       "      <td>1</td>\n",
       "      <td>0</td>\n",
       "      <td>0</td>\n",
       "      <td>0</td>\n",
       "      <td>0</td>\n",
       "      <td>0</td>\n",
       "    </tr>\n",
       "    <tr>\n",
       "      <th>1</th>\n",
       "      <td>75</td>\n",
       "      <td>44</td>\n",
       "      <td>28</td>\n",
       "      <td>6.0</td>\n",
       "      <td>13.5</td>\n",
       "      <td>7</td>\n",
       "      <td>1</td>\n",
       "      <td>0</td>\n",
       "      <td>1</td>\n",
       "      <td>0</td>\n",
       "      <td>0</td>\n",
       "      <td>0</td>\n",
       "      <td>0</td>\n",
       "      <td>0</td>\n",
       "      <td>1</td>\n",
       "      <td>0</td>\n",
       "      <td>0</td>\n",
       "    </tr>\n",
       "    <tr>\n",
       "      <th>2</th>\n",
       "      <td>128</td>\n",
       "      <td>70</td>\n",
       "      <td>42</td>\n",
       "      <td>6.0</td>\n",
       "      <td>14.5</td>\n",
       "      <td>3</td>\n",
       "      <td>1</td>\n",
       "      <td>1</td>\n",
       "      <td>1</td>\n",
       "      <td>0</td>\n",
       "      <td>0</td>\n",
       "      <td>1</td>\n",
       "      <td>0</td>\n",
       "      <td>0</td>\n",
       "      <td>0</td>\n",
       "      <td>0</td>\n",
       "      <td>0</td>\n",
       "    </tr>\n",
       "    <tr>\n",
       "      <th>3</th>\n",
       "      <td>95</td>\n",
       "      <td>61</td>\n",
       "      <td>37</td>\n",
       "      <td>6.0</td>\n",
       "      <td>13.5</td>\n",
       "      <td>7</td>\n",
       "      <td>1</td>\n",
       "      <td>0</td>\n",
       "      <td>1</td>\n",
       "      <td>1</td>\n",
       "      <td>0</td>\n",
       "      <td>0</td>\n",
       "      <td>0</td>\n",
       "      <td>0</td>\n",
       "      <td>0</td>\n",
       "      <td>0</td>\n",
       "      <td>0</td>\n",
       "    </tr>\n",
       "    <tr>\n",
       "      <th>4</th>\n",
       "      <td>330</td>\n",
       "      <td>104</td>\n",
       "      <td>60</td>\n",
       "      <td>11.0</td>\n",
       "      <td>10.5</td>\n",
       "      <td>7</td>\n",
       "      <td>0</td>\n",
       "      <td>1</td>\n",
       "      <td>1</td>\n",
       "      <td>0</td>\n",
       "      <td>0</td>\n",
       "      <td>1</td>\n",
       "      <td>0</td>\n",
       "      <td>0</td>\n",
       "      <td>0</td>\n",
       "      <td>0</td>\n",
       "      <td>0</td>\n",
       "    </tr>\n",
       "  </tbody>\n",
       "</table>\n",
       "</div>"
      ],
      "text/plain": [
       "   price  totsp  livesp  kitsp  dist  metrdist  walk  brick  floor  code_0  \\\n",
       "0     81     58      40    6.0  12.5         7     1      1      1       0   \n",
       "1     75     44      28    6.0  13.5         7     1      0      1       0   \n",
       "2    128     70      42    6.0  14.5         3     1      1      1       0   \n",
       "3     95     61      37    6.0  13.5         7     1      0      1       1   \n",
       "4    330    104      60   11.0  10.5         7     0      1      1       0   \n",
       "\n",
       "   code_1  code_2  code_3  code_4  code_5  code_6  code_7  \n",
       "0       0       1       0       0       0       0       0  \n",
       "1       0       0       0       0       1       0       0  \n",
       "2       0       1       0       0       0       0       0  \n",
       "3       0       0       0       0       0       0       0  \n",
       "4       0       1       0       0       0       0       0  "
      ]
     },
     "execution_count": 191,
     "metadata": {},
     "output_type": "execute_result"
    }
   ],
   "source": [
    "df.head()"
   ]
  },
  {
   "cell_type": "code",
   "execution_count": 192,
   "id": "6aa937ed",
   "metadata": {},
   "outputs": [],
   "source": [
    "X = df.drop(['price'], axis=1).values\n",
    "Y = df['price'].values\n",
    "\n",
    "test_size = 0.25\n",
    "r_state = 123\n",
    "X_train, X_test, y_train, y_test = train_test_split(X, Y, test_size=test_size, random_state=r_state)"
   ]
  },
  {
   "cell_type": "code",
   "execution_count": 193,
   "id": "85fec835",
   "metadata": {},
   "outputs": [
    {
     "name": "stdout",
     "output_type": "stream",
     "text": [
      "MSE:  467.7120073296302\n",
      "MAE:  13.805467447585094\n",
      "RMSE:  21.6266503955104\n",
      "R2:  0.7546048582309135\n"
     ]
    }
   ],
   "source": [
    "rf_regressor = RandomForestRegressor()\n",
    "rf_regressor.fit(X_train, y_train)\n",
    "probs = rf_regressor.predict(X_test)\n",
    "print('MSE: ', mean_squared_error(y_test, probs))\n",
    "print('MAE: ', mean_absolute_error(y_test, probs))\n",
    "print('RMSE: ', math.sqrt(mean_squared_error(y_test, probs)))\n",
    "print('R2: ', r2_score(y_test, probs))"
   ]
  },
  {
   "cell_type": "markdown",
   "id": "f474b96d",
   "metadata": {},
   "source": [
    "# Подбор параметров"
   ]
  },
  {
   "cell_type": "code",
   "execution_count": 194,
   "id": "cd8ddb83",
   "metadata": {},
   "outputs": [],
   "source": [
    "params = {\n",
    "         'n_estimators': range(1, 200),\n",
    "         'max_depth': range(1, 30),\n",
    "         'min_samples_split': range(2, 30),\n",
    "         'min_samples_leaf': range(1, 30)\n",
    "         }         "
   ]
  },
  {
   "cell_type": "code",
   "execution_count": 230,
   "id": "1416ae71",
   "metadata": {},
   "outputs": [
    {
     "name": "stdout",
     "output_type": "stream",
     "text": [
      "Fitting 10 folds for each of 500 candidates, totalling 5000 fits\n"
     ]
    },
    {
     "data": {
      "text/plain": [
       "RandomizedSearchCV(cv=10,\n",
       "                   estimator=RandomForestRegressor(max_depth=27,\n",
       "                                                   min_samples_leaf=3,\n",
       "                                                   min_samples_split=6,\n",
       "                                                   n_estimators=73),\n",
       "                   n_iter=500, n_jobs=-1,\n",
       "                   param_distributions={'max_depth': range(1, 30),\n",
       "                                        'min_samples_leaf': range(1, 30),\n",
       "                                        'min_samples_split': range(2, 30),\n",
       "                                        'n_estimators': range(1, 200)},\n",
       "                   random_state=123, scoring='r2', verbose=3)"
      ]
     },
     "execution_count": 230,
     "metadata": {},
     "output_type": "execute_result"
    }
   ],
   "source": [
    "random_search = RandomizedSearchCV(rf_regressor, param_distributions=params, cv = 10, n_iter = 500, \n",
    "                                   scoring='r2', n_jobs=-1, verbose=3, random_state=123)\n",
    "\n",
    "random_search.fit(X_train, y_train)"
   ]
  },
  {
   "cell_type": "code",
   "execution_count": 196,
   "id": "b29b3d58",
   "metadata": {},
   "outputs": [
    {
     "name": "stdout",
     "output_type": "stream",
     "text": [
      "\n",
      " All results:\n",
      "{'mean_fit_time': array([0.10049129, 0.37874365, 0.33590488, 0.18456755, 0.39776106,\n",
      "       0.33810673, 0.23241091, 0.08567791, 0.23841653, 0.26063662,\n",
      "       0.0466423 , 0.11250219, 0.36052718, 0.21519532, 0.48964458,\n",
      "       0.02222023, 0.12551394, 0.36413059, 0.0658597 , 0.02302098,\n",
      "       0.10549588, 0.3124835 , 0.20518622, 0.44804559, 0.22811832,\n",
      "       0.07426748, 0.11634469, 0.41903582, 0.44600482, 0.22880783,\n",
      "       0.26724248, 0.21979952, 0.23581414, 0.1683527 , 0.2370153 ,\n",
      "       0.05364852, 0.39656   , 0.15193796, 0.0862783 , 0.30307522,\n",
      "       0.13412175, 0.3520227 , 0.17876225, 0.23831944, 0.20088525,\n",
      "       0.19707966, 0.07767029, 0.04584136, 0.34491301, 0.0982892 ,\n",
      "       0.12391238, 0.11230187, 0.47463098, 0.2966691 , 0.07446756,\n",
      "       0.0350317 , 0.01281157, 0.29406672, 0.29406691, 0.31048169,\n",
      "       0.37654171, 0.30687847, 0.27845283, 0.38798909, 0.35689373,\n",
      "       0.04484076, 0.50597439, 0.07070117, 0.31613522, 0.222018  ,\n",
      "       0.41860991, 0.07867141, 0.35472207, 0.3232935 , 0.36953554,\n",
      "       0.13752494, 0.07286606, 0.29426713, 0.24642372, 0.18957214,\n",
      "       0.24762468, 0.17595987, 0.12471342, 0.02902632, 0.0490447 ,\n",
      "       0.04363966, 0.06786165, 0.08227477, 0.34891644, 0.44660554,\n",
      "       0.04403992, 0.47302952, 0.25843468, 0.11270237, 0.04243855,\n",
      "       0.11310253, 0.19094748, 0.06165609, 0.03521056, 0.15967073]), 'std_fit_time': array([0.00344429, 0.0060916 , 0.00700926, 0.00516605, 0.00763839,\n",
      "       0.00875772, 0.01102637, 0.0032649 , 0.00397339, 0.00700912,\n",
      "       0.00265572, 0.00668733, 0.00578122, 0.0059046 , 0.01061914,\n",
      "       0.00098062, 0.00241874, 0.01048621, 0.00278814, 0.00155065,\n",
      "       0.00241872, 0.00271544, 0.00730044, 0.00770127, 0.00806727,\n",
      "       0.00365855, 0.00807219, 0.00752223, 0.00436749, 0.00990038,\n",
      "       0.00713382, 0.00393301, 0.00575311, 0.00376644, 0.0061506 ,\n",
      "       0.00224718, 0.00471178, 0.00668151, 0.00231715, 0.01061909,\n",
      "       0.00189904, 0.01140166, 0.00393286, 0.00700924, 0.0011675 ,\n",
      "       0.00290915, 0.00344402, 0.00116747, 0.00355846, 0.00365844,\n",
      "       0.00392263, 0.00412161, 0.0096297 , 0.00677661, 0.00162651,\n",
      "       0.00141536, 0.000749  , 0.00534884, 0.00697465, 0.00387137,\n",
      "       0.00674093, 0.00344408, 0.00680047, 0.00336596, 0.00944406,\n",
      "       0.00160151, 0.01652426, 0.00174649, 0.00636014, 0.00407703,\n",
      "       0.0035061 , 0.00500864, 0.00871632, 0.0044312 , 0.02638584,\n",
      "       0.00300945, 0.00194085, 0.01577498, 0.02964056, 0.02256469,\n",
      "       0.00952908, 0.00634271, 0.00350169, 0.00236862, 0.0027591 ,\n",
      "       0.00320305, 0.00183465, 0.00397363, 0.00883075, 0.00665131,\n",
      "       0.00189916, 0.01313598, 0.00343249, 0.00531894, 0.00080059,\n",
      "       0.00303593, 0.00312694, 0.00250022, 0.00038503, 0.00344415]), 'mean_score_time': array([0.00640569, 0.01541405, 0.01501355, 0.00860777, 0.01961789,\n",
      "       0.01421289, 0.00900822, 0.00440392, 0.00980883, 0.01281157,\n",
      "       0.00220203, 0.00540495, 0.0162148 , 0.0104094 , 0.01961784,\n",
      "       0.00180159, 0.00660601, 0.01601467, 0.003403  , 0.00180159,\n",
      "       0.00520463, 0.01381264, 0.00800743, 0.01841669, 0.01181059,\n",
      "       0.00360322, 0.00720644, 0.01661525, 0.01841669, 0.00940843,\n",
      "       0.01141028, 0.00860772, 0.01181078, 0.00800738, 0.01181068,\n",
      "       0.00220227, 0.01681533, 0.00880785, 0.00480442, 0.01521363,\n",
      "       0.00820751, 0.01481347, 0.00700645, 0.00980926, 0.00940866,\n",
      "       0.01161041, 0.003403  , 0.00320287, 0.01301188, 0.00600543,\n",
      "       0.00560513, 0.00460405, 0.0196177 , 0.01281185, 0.00300264,\n",
      "       0.00200191, 0.00100102, 0.01080985, 0.01221113, 0.01461329,\n",
      "       0.01721554, 0.0158143 , 0.01261134, 0.01663146, 0.0160367 ,\n",
      "       0.00220208, 0.01821656, 0.00371041, 0.01381235, 0.01060967,\n",
      "       0.0158144 , 0.0038034 , 0.01521373, 0.01401277, 0.01561422,\n",
      "       0.00940847, 0.00440412, 0.01020927, 0.00980892, 0.00880795,\n",
      "       0.01060972, 0.01121006, 0.00580516, 0.00160141, 0.00280228,\n",
      "       0.00200186, 0.00400352, 0.00380349, 0.01581464, 0.01721568,\n",
      "       0.00220203, 0.01781602, 0.01040955, 0.00580516, 0.00220218,\n",
      "       0.00520473, 0.007407  , 0.00320282, 0.00159106, 0.0064055 ]), 'std_score_time': array([4.90096089e-04, 4.90524413e-04, 1.09649748e-03, 1.02087088e-03,\n",
      "       7.74262227e-03, 4.00280992e-04, 1.09632339e-03, 4.90485479e-04,\n",
      "       7.48978211e-04, 1.60138607e-03, 4.00304809e-04, 4.90271250e-04,\n",
      "       1.16737340e-03, 1.02065580e-03, 8.00871982e-04, 4.00114074e-04,\n",
      "       8.00740724e-04, 6.32862070e-04, 4.90329644e-04, 4.00471698e-04,\n",
      "       7.49041914e-04, 1.47108627e-03, 2.43140197e-07, 1.02084285e-03,\n",
      "       7.49041899e-04, 4.90271273e-04, 4.00304865e-04, 4.90349148e-04,\n",
      "       8.00645363e-04, 8.00871911e-04, 4.90329667e-04, 4.90349171e-04,\n",
      "       7.49156597e-04, 6.33163649e-04, 7.49067370e-04, 4.00543241e-04,\n",
      "       1.72198666e-03, 7.48952679e-04, 7.48978180e-04, 4.00471783e-04,\n",
      "       7.48978180e-04, 1.16704631e-03, 8.95375295e-04, 7.49029144e-04,\n",
      "       4.90212867e-04, 4.90193483e-04, 4.90329667e-04, 4.00209441e-04,\n",
      "       8.95215374e-04, 1.09645397e-03, 4.90777487e-04, 4.90135100e-04,\n",
      "       1.62631576e-03, 7.48952679e-04, 1.50789149e-07, 6.33239039e-04,\n",
      "       1.16800773e-07, 7.48825283e-04, 4.00519410e-04, 1.02063710e-03,\n",
      "       9.80824761e-04, 7.48965424e-04, 4.90329644e-04, 8.03851929e-04,\n",
      "       7.02669013e-04, 4.00400204e-04, 7.48914457e-04, 6.05447795e-04,\n",
      "       7.49105612e-04, 1.02073996e-03, 4.00352506e-04, 4.00376331e-04,\n",
      "       1.16740612e-03, 6.33088264e-04, 1.02098310e-03, 8.00669227e-04,\n",
      "       1.02074932e-03, 4.00447874e-04, 1.32779021e-03, 7.48978165e-04,\n",
      "       8.00716885e-04, 4.00614948e-04, 4.00376331e-04, 4.90232347e-04,\n",
      "       4.00137940e-04, 2.43140197e-07, 6.33012849e-04, 4.00424071e-04,\n",
      "       1.16717714e-03, 9.80600891e-04, 4.00304809e-04, 1.94083966e-03,\n",
      "       4.90407589e-04, 7.48939932e-04, 4.00352563e-04, 4.00400233e-04,\n",
      "       1.02102995e-03, 9.80805290e-04, 5.03473016e-04, 4.90349125e-04]), 'param_n_estimators': masked_array(data=[66, 152, 155, 89, 145, 153, 73, 38, 104, 127, 20, 43,\n",
      "                   171, 102, 198, 10, 55, 180, 34, 11, 49, 133, 80, 190,\n",
      "                   130, 29, 78, 175, 196, 94, 114, 84, 138, 79, 136, 26,\n",
      "                   163, 95, 42, 190, 96, 150, 67, 97, 94, 143, 31, 32,\n",
      "                   127, 70, 49, 47, 199, 136, 29, 12, 5, 96, 118, 168,\n",
      "                   180, 182, 135, 171, 174, 19, 183, 37, 143, 107, 156,\n",
      "                   38, 152, 149, 165, 115, 36, 105, 107, 92, 117, 140, 63,\n",
      "                   13, 24, 17, 40, 34, 178, 173, 25, 166, 109, 57, 21, 55,\n",
      "                   102, 27, 12, 91],\n",
      "             mask=[False, False, False, False, False, False, False, False,\n",
      "                   False, False, False, False, False, False, False, False,\n",
      "                   False, False, False, False, False, False, False, False,\n",
      "                   False, False, False, False, False, False, False, False,\n",
      "                   False, False, False, False, False, False, False, False,\n",
      "                   False, False, False, False, False, False, False, False,\n",
      "                   False, False, False, False, False, False, False, False,\n",
      "                   False, False, False, False, False, False, False, False,\n",
      "                   False, False, False, False, False, False, False, False,\n",
      "                   False, False, False, False, False, False, False, False,\n",
      "                   False, False, False, False, False, False, False, False,\n",
      "                   False, False, False, False, False, False, False, False,\n",
      "                   False, False, False, False],\n",
      "       fill_value='?',\n",
      "            dtype=object), 'param_min_samples_split': masked_array(data=[26, 23, 22, 22, 8, 17, 7, 25, 12, 22, 4, 2, 8, 15, 20,\n",
      "                   16, 26, 20, 15, 27, 3, 23, 10, 7, 16, 29, 24, 20, 12,\n",
      "                   6, 29, 19, 9, 15, 29, 28, 14, 24, 28, 13, 24, 29, 13,\n",
      "                   27, 6, 24, 6, 13, 13, 29, 2, 22, 20, 14, 16, 2, 3, 6,\n",
      "                   11, 7, 24, 19, 11, 29, 26, 9, 5, 29, 7, 2, 2, 19, 23,\n",
      "                   16, 20, 14, 6, 4, 20, 11, 15, 8, 18, 3, 21, 27, 4, 20,\n",
      "                   26, 18, 14, 5, 7, 3, 10, 23, 23, 25, 7, 11],\n",
      "             mask=[False, False, False, False, False, False, False, False,\n",
      "                   False, False, False, False, False, False, False, False,\n",
      "                   False, False, False, False, False, False, False, False,\n",
      "                   False, False, False, False, False, False, False, False,\n",
      "                   False, False, False, False, False, False, False, False,\n",
      "                   False, False, False, False, False, False, False, False,\n",
      "                   False, False, False, False, False, False, False, False,\n",
      "                   False, False, False, False, False, False, False, False,\n",
      "                   False, False, False, False, False, False, False, False,\n",
      "                   False, False, False, False, False, False, False, False,\n",
      "                   False, False, False, False, False, False, False, False,\n",
      "                   False, False, False, False, False, False, False, False,\n",
      "                   False, False, False, False],\n",
      "       fill_value='?',\n",
      "            dtype=object), 'param_min_samples_leaf': masked_array(data=[21, 4, 17, 20, 6, 19, 4, 15, 13, 25, 13, 10, 20, 20, 6,\n",
      "                   15, 13, 24, 2, 23, 19, 11, 1, 11, 13, 2, 19, 5, 13, 9,\n",
      "                   7, 2, 20, 24, 3, 25, 6, 25, 28, 3, 9, 9, 5, 2, 17, 5,\n",
      "                   9, 6, 3, 26, 7, 11, 9, 17, 5, 4, 9, 1, 8, 15, 20, 26,\n",
      "                   21, 9, 22, 3, 5, 29, 14, 21, 5, 26, 10, 15, 19, 9, 26,\n",
      "                   8, 28, 20, 3, 8, 27, 26, 27, 6, 29, 12, 26, 4, 25, 4,\n",
      "                   10, 12, 23, 24, 29, 12, 3, 22],\n",
      "             mask=[False, False, False, False, False, False, False, False,\n",
      "                   False, False, False, False, False, False, False, False,\n",
      "                   False, False, False, False, False, False, False, False,\n",
      "                   False, False, False, False, False, False, False, False,\n",
      "                   False, False, False, False, False, False, False, False,\n",
      "                   False, False, False, False, False, False, False, False,\n",
      "                   False, False, False, False, False, False, False, False,\n",
      "                   False, False, False, False, False, False, False, False,\n",
      "                   False, False, False, False, False, False, False, False,\n",
      "                   False, False, False, False, False, False, False, False,\n",
      "                   False, False, False, False, False, False, False, False,\n",
      "                   False, False, False, False, False, False, False, False,\n",
      "                   False, False, False, False],\n",
      "       fill_value='?',\n",
      "            dtype=object), 'param_max_depth': masked_array(data=[2, 27, 20, 8, 15, 11, 20, 24, 20, 8, 21, 13, 17, 10,\n",
      "                   15, 29, 17, 29, 5, 25, 23, 22, 9, 16, 4, 25, 2, 9, 19,\n",
      "                   12, 13, 21, 4, 20, 4, 10, 9, 3, 17, 3, 2, 25, 16, 11,\n",
      "                   22, 2, 22, 2, 25, 2, 11, 24, 21, 29, 19, 13, 17, 12,\n",
      "                   12, 5, 23, 4, 26, 26, 27, 7, 13, 6, 18, 19, 27, 23, 21,\n",
      "                   15, 14, 1, 13, 18, 23, 5, 6, 1, 15, 8, 29, 21, 4, 14,\n",
      "                   13, 19, 4, 21, 20, 5, 6, 11, 15, 8, 13, 10],\n",
      "             mask=[False, False, False, False, False, False, False, False,\n",
      "                   False, False, False, False, False, False, False, False,\n",
      "                   False, False, False, False, False, False, False, False,\n",
      "                   False, False, False, False, False, False, False, False,\n",
      "                   False, False, False, False, False, False, False, False,\n",
      "                   False, False, False, False, False, False, False, False,\n",
      "                   False, False, False, False, False, False, False, False,\n",
      "                   False, False, False, False, False, False, False, False,\n",
      "                   False, False, False, False, False, False, False, False,\n",
      "                   False, False, False, False, False, False, False, False,\n",
      "                   False, False, False, False, False, False, False, False,\n",
      "                   False, False, False, False, False, False, False, False,\n",
      "                   False, False, False, False],\n",
      "       fill_value='?',\n",
      "            dtype=object), 'params': [{'n_estimators': 66, 'min_samples_split': 26, 'min_samples_leaf': 21, 'max_depth': 2}, {'n_estimators': 152, 'min_samples_split': 23, 'min_samples_leaf': 4, 'max_depth': 27}, {'n_estimators': 155, 'min_samples_split': 22, 'min_samples_leaf': 17, 'max_depth': 20}, {'n_estimators': 89, 'min_samples_split': 22, 'min_samples_leaf': 20, 'max_depth': 8}, {'n_estimators': 145, 'min_samples_split': 8, 'min_samples_leaf': 6, 'max_depth': 15}, {'n_estimators': 153, 'min_samples_split': 17, 'min_samples_leaf': 19, 'max_depth': 11}, {'n_estimators': 73, 'min_samples_split': 7, 'min_samples_leaf': 4, 'max_depth': 20}, {'n_estimators': 38, 'min_samples_split': 25, 'min_samples_leaf': 15, 'max_depth': 24}, {'n_estimators': 104, 'min_samples_split': 12, 'min_samples_leaf': 13, 'max_depth': 20}, {'n_estimators': 127, 'min_samples_split': 22, 'min_samples_leaf': 25, 'max_depth': 8}, {'n_estimators': 20, 'min_samples_split': 4, 'min_samples_leaf': 13, 'max_depth': 21}, {'n_estimators': 43, 'min_samples_split': 2, 'min_samples_leaf': 10, 'max_depth': 13}, {'n_estimators': 171, 'min_samples_split': 8, 'min_samples_leaf': 20, 'max_depth': 17}, {'n_estimators': 102, 'min_samples_split': 15, 'min_samples_leaf': 20, 'max_depth': 10}, {'n_estimators': 198, 'min_samples_split': 20, 'min_samples_leaf': 6, 'max_depth': 15}, {'n_estimators': 10, 'min_samples_split': 16, 'min_samples_leaf': 15, 'max_depth': 29}, {'n_estimators': 55, 'min_samples_split': 26, 'min_samples_leaf': 13, 'max_depth': 17}, {'n_estimators': 180, 'min_samples_split': 20, 'min_samples_leaf': 24, 'max_depth': 29}, {'n_estimators': 34, 'min_samples_split': 15, 'min_samples_leaf': 2, 'max_depth': 5}, {'n_estimators': 11, 'min_samples_split': 27, 'min_samples_leaf': 23, 'max_depth': 25}, {'n_estimators': 49, 'min_samples_split': 3, 'min_samples_leaf': 19, 'max_depth': 23}, {'n_estimators': 133, 'min_samples_split': 23, 'min_samples_leaf': 11, 'max_depth': 22}, {'n_estimators': 80, 'min_samples_split': 10, 'min_samples_leaf': 1, 'max_depth': 9}, {'n_estimators': 190, 'min_samples_split': 7, 'min_samples_leaf': 11, 'max_depth': 16}, {'n_estimators': 130, 'min_samples_split': 16, 'min_samples_leaf': 13, 'max_depth': 4}, {'n_estimators': 29, 'min_samples_split': 29, 'min_samples_leaf': 2, 'max_depth': 25}, {'n_estimators': 78, 'min_samples_split': 24, 'min_samples_leaf': 19, 'max_depth': 2}, {'n_estimators': 175, 'min_samples_split': 20, 'min_samples_leaf': 5, 'max_depth': 9}, {'n_estimators': 196, 'min_samples_split': 12, 'min_samples_leaf': 13, 'max_depth': 19}, {'n_estimators': 94, 'min_samples_split': 6, 'min_samples_leaf': 9, 'max_depth': 12}, {'n_estimators': 114, 'min_samples_split': 29, 'min_samples_leaf': 7, 'max_depth': 13}, {'n_estimators': 84, 'min_samples_split': 19, 'min_samples_leaf': 2, 'max_depth': 21}, {'n_estimators': 138, 'min_samples_split': 9, 'min_samples_leaf': 20, 'max_depth': 4}, {'n_estimators': 79, 'min_samples_split': 15, 'min_samples_leaf': 24, 'max_depth': 20}, {'n_estimators': 136, 'min_samples_split': 29, 'min_samples_leaf': 3, 'max_depth': 4}, {'n_estimators': 26, 'min_samples_split': 28, 'min_samples_leaf': 25, 'max_depth': 10}, {'n_estimators': 163, 'min_samples_split': 14, 'min_samples_leaf': 6, 'max_depth': 9}, {'n_estimators': 95, 'min_samples_split': 24, 'min_samples_leaf': 25, 'max_depth': 3}, {'n_estimators': 42, 'min_samples_split': 28, 'min_samples_leaf': 28, 'max_depth': 17}, {'n_estimators': 190, 'min_samples_split': 13, 'min_samples_leaf': 3, 'max_depth': 3}, {'n_estimators': 96, 'min_samples_split': 24, 'min_samples_leaf': 9, 'max_depth': 2}, {'n_estimators': 150, 'min_samples_split': 29, 'min_samples_leaf': 9, 'max_depth': 25}, {'n_estimators': 67, 'min_samples_split': 13, 'min_samples_leaf': 5, 'max_depth': 16}, {'n_estimators': 97, 'min_samples_split': 27, 'min_samples_leaf': 2, 'max_depth': 11}, {'n_estimators': 94, 'min_samples_split': 6, 'min_samples_leaf': 17, 'max_depth': 22}, {'n_estimators': 143, 'min_samples_split': 24, 'min_samples_leaf': 5, 'max_depth': 2}, {'n_estimators': 31, 'min_samples_split': 6, 'min_samples_leaf': 9, 'max_depth': 22}, {'n_estimators': 32, 'min_samples_split': 13, 'min_samples_leaf': 6, 'max_depth': 2}, {'n_estimators': 127, 'min_samples_split': 13, 'min_samples_leaf': 3, 'max_depth': 25}, {'n_estimators': 70, 'min_samples_split': 29, 'min_samples_leaf': 26, 'max_depth': 2}, {'n_estimators': 49, 'min_samples_split': 2, 'min_samples_leaf': 7, 'max_depth': 11}, {'n_estimators': 47, 'min_samples_split': 22, 'min_samples_leaf': 11, 'max_depth': 24}, {'n_estimators': 199, 'min_samples_split': 20, 'min_samples_leaf': 9, 'max_depth': 21}, {'n_estimators': 136, 'min_samples_split': 14, 'min_samples_leaf': 17, 'max_depth': 29}, {'n_estimators': 29, 'min_samples_split': 16, 'min_samples_leaf': 5, 'max_depth': 19}, {'n_estimators': 12, 'min_samples_split': 2, 'min_samples_leaf': 4, 'max_depth': 13}, {'n_estimators': 5, 'min_samples_split': 3, 'min_samples_leaf': 9, 'max_depth': 17}, {'n_estimators': 96, 'min_samples_split': 6, 'min_samples_leaf': 1, 'max_depth': 12}, {'n_estimators': 118, 'min_samples_split': 11, 'min_samples_leaf': 8, 'max_depth': 12}, {'n_estimators': 168, 'min_samples_split': 7, 'min_samples_leaf': 15, 'max_depth': 5}, {'n_estimators': 180, 'min_samples_split': 24, 'min_samples_leaf': 20, 'max_depth': 23}, {'n_estimators': 182, 'min_samples_split': 19, 'min_samples_leaf': 26, 'max_depth': 4}, {'n_estimators': 135, 'min_samples_split': 11, 'min_samples_leaf': 21, 'max_depth': 26}, {'n_estimators': 171, 'min_samples_split': 29, 'min_samples_leaf': 9, 'max_depth': 26}, {'n_estimators': 174, 'min_samples_split': 26, 'min_samples_leaf': 22, 'max_depth': 27}, {'n_estimators': 19, 'min_samples_split': 9, 'min_samples_leaf': 3, 'max_depth': 7}, {'n_estimators': 183, 'min_samples_split': 5, 'min_samples_leaf': 5, 'max_depth': 13}, {'n_estimators': 37, 'min_samples_split': 29, 'min_samples_leaf': 29, 'max_depth': 6}, {'n_estimators': 143, 'min_samples_split': 7, 'min_samples_leaf': 14, 'max_depth': 18}, {'n_estimators': 107, 'min_samples_split': 2, 'min_samples_leaf': 21, 'max_depth': 19}, {'n_estimators': 156, 'min_samples_split': 2, 'min_samples_leaf': 5, 'max_depth': 27}, {'n_estimators': 38, 'min_samples_split': 19, 'min_samples_leaf': 26, 'max_depth': 23}, {'n_estimators': 152, 'min_samples_split': 23, 'min_samples_leaf': 10, 'max_depth': 21}, {'n_estimators': 149, 'min_samples_split': 16, 'min_samples_leaf': 15, 'max_depth': 15}, {'n_estimators': 165, 'min_samples_split': 20, 'min_samples_leaf': 19, 'max_depth': 14}, {'n_estimators': 115, 'min_samples_split': 14, 'min_samples_leaf': 9, 'max_depth': 1}, {'n_estimators': 36, 'min_samples_split': 6, 'min_samples_leaf': 26, 'max_depth': 13}, {'n_estimators': 105, 'min_samples_split': 4, 'min_samples_leaf': 8, 'max_depth': 18}, {'n_estimators': 107, 'min_samples_split': 20, 'min_samples_leaf': 28, 'max_depth': 23}, {'n_estimators': 92, 'min_samples_split': 11, 'min_samples_leaf': 20, 'max_depth': 5}, {'n_estimators': 117, 'min_samples_split': 15, 'min_samples_leaf': 3, 'max_depth': 6}, {'n_estimators': 140, 'min_samples_split': 8, 'min_samples_leaf': 8, 'max_depth': 1}, {'n_estimators': 63, 'min_samples_split': 18, 'min_samples_leaf': 27, 'max_depth': 15}, {'n_estimators': 13, 'min_samples_split': 3, 'min_samples_leaf': 26, 'max_depth': 8}, {'n_estimators': 24, 'min_samples_split': 21, 'min_samples_leaf': 27, 'max_depth': 29}, {'n_estimators': 17, 'min_samples_split': 27, 'min_samples_leaf': 6, 'max_depth': 21}, {'n_estimators': 40, 'min_samples_split': 4, 'min_samples_leaf': 29, 'max_depth': 4}, {'n_estimators': 34, 'min_samples_split': 20, 'min_samples_leaf': 12, 'max_depth': 14}, {'n_estimators': 178, 'min_samples_split': 26, 'min_samples_leaf': 26, 'max_depth': 13}, {'n_estimators': 173, 'min_samples_split': 18, 'min_samples_leaf': 4, 'max_depth': 19}, {'n_estimators': 25, 'min_samples_split': 14, 'min_samples_leaf': 25, 'max_depth': 4}, {'n_estimators': 166, 'min_samples_split': 5, 'min_samples_leaf': 4, 'max_depth': 21}, {'n_estimators': 109, 'min_samples_split': 7, 'min_samples_leaf': 10, 'max_depth': 20}, {'n_estimators': 57, 'min_samples_split': 3, 'min_samples_leaf': 12, 'max_depth': 5}, {'n_estimators': 21, 'min_samples_split': 10, 'min_samples_leaf': 23, 'max_depth': 6}, {'n_estimators': 55, 'min_samples_split': 23, 'min_samples_leaf': 24, 'max_depth': 11}, {'n_estimators': 102, 'min_samples_split': 23, 'min_samples_leaf': 29, 'max_depth': 15}, {'n_estimators': 27, 'min_samples_split': 25, 'min_samples_leaf': 12, 'max_depth': 8}, {'n_estimators': 12, 'min_samples_split': 7, 'min_samples_leaf': 3, 'max_depth': 13}, {'n_estimators': 91, 'min_samples_split': 11, 'min_samples_leaf': 22, 'max_depth': 10}], 'split0_test_score': array([0.52686058, 0.74798585, 0.67401825, 0.64115916, 0.75274623,\n",
      "       0.65747061, 0.75594501, 0.6952795 , 0.71867861, 0.57228145,\n",
      "       0.72047615, 0.70911991, 0.64485168, 0.64518802, 0.74818487,\n",
      "       0.71777886, 0.70740656, 0.5757579 , 0.69665903, 0.59884567,\n",
      "       0.66599949, 0.73171345, 0.74798719, 0.72077636, 0.67655097,\n",
      "       0.73881101, 0.56927139, 0.74727678, 0.71633907, 0.73550865,\n",
      "       0.73100859, 0.74352387, 0.6132141 , 0.5809137 , 0.70233786,\n",
      "       0.5731315 , 0.75114382, 0.54193577, 0.5533366 , 0.68812341,\n",
      "       0.60289542, 0.72985293, 0.75343886, 0.73451297, 0.66577369,\n",
      "       0.60789382, 0.73668436, 0.6110285 , 0.75271104, 0.44585019,\n",
      "       0.74311424, 0.72387412, 0.73401542, 0.68384303, 0.75356575,\n",
      "       0.76864075, 0.74128312, 0.75854793, 0.74471843, 0.67403027,\n",
      "       0.64367106, 0.54298749, 0.63605903, 0.73022216, 0.60981247,\n",
      "       0.75474159, 0.75486689, 0.55745395, 0.7017944 , 0.62085386,\n",
      "       0.75869813, 0.56805166, 0.7270279 , 0.69569864, 0.66455146,\n",
      "       0.31168015, 0.56204379, 0.74244995, 0.55270821, 0.62205395,\n",
      "       0.72357241, 0.33195307, 0.54606946, 0.52989614, 0.55495581,\n",
      "       0.70411727, 0.52824738, 0.72729384, 0.56684928, 0.75393638,\n",
      "       0.51645292, 0.75990087, 0.73094818, 0.69196367, 0.57926006,\n",
      "       0.58502743, 0.54854967, 0.70612987, 0.74539603, 0.61791382]), 'split1_test_score': array([0.50755426, 0.64382981, 0.61644033, 0.62322599, 0.6617912 ,\n",
      "       0.61890629, 0.66566932, 0.60671467, 0.62723143, 0.61706368,\n",
      "       0.6286348 , 0.64089998, 0.62417353, 0.62857539, 0.64874649,\n",
      "       0.62511354, 0.63177928, 0.624163  , 0.60514151, 0.62929984,\n",
      "       0.63099477, 0.63397207, 0.64243606, 0.63627677, 0.57478378,\n",
      "       0.63754938, 0.49121388, 0.63990328, 0.62624556, 0.64797318,\n",
      "       0.63304733, 0.65268183, 0.59490512, 0.62586404, 0.58544383,\n",
      "       0.60884977, 0.65275849, 0.57085591, 0.60081943, 0.5674615 ,\n",
      "       0.47052774, 0.62767163, 0.65026787, 0.63065734, 0.61985104,\n",
      "       0.48785104, 0.63640378, 0.47349265, 0.65966312, 0.50944072,\n",
      "       0.64907669, 0.62052254, 0.64053382, 0.62283146, 0.64872773,\n",
      "       0.68165542, 0.57739564, 0.64789301, 0.64790874, 0.59168994,\n",
      "       0.62194676, 0.58847441, 0.62493844, 0.63679466, 0.61713053,\n",
      "       0.62609654, 0.66198307, 0.58715864, 0.61881869, 0.62303147,\n",
      "       0.66263675, 0.60730902, 0.63135907, 0.62421364, 0.62470338,\n",
      "       0.28484417, 0.61133352, 0.64069875, 0.60044048, 0.59847525,\n",
      "       0.61234656, 0.28705771, 0.61075361, 0.59551906, 0.60067173,\n",
      "       0.61948984, 0.57195266, 0.6402563 , 0.60995248, 0.65091781,\n",
      "       0.59324316, 0.65814361, 0.63233232, 0.59291173, 0.62008718,\n",
      "       0.62244943, 0.59729717, 0.62992719, 0.66424506, 0.61959833]), 'split2_test_score': array([0.56002165, 0.68727399, 0.67157093, 0.68672157, 0.71598536,\n",
      "       0.67922383, 0.71543071, 0.67349455, 0.66073918, 0.68584134,\n",
      "       0.69137156, 0.68193224, 0.6880355 , 0.6769733 , 0.69487929,\n",
      "       0.64687523, 0.6541627 , 0.68872044, 0.69521026, 0.68030572,\n",
      "       0.67078601, 0.68062982, 0.69900932, 0.68982144, 0.6345866 ,\n",
      "       0.6557872 , 0.54411576, 0.69211385, 0.67264398, 0.70721043,\n",
      "       0.69709828, 0.68293592, 0.6700334 , 0.68521287, 0.64301882,\n",
      "       0.68342508, 0.70822373, 0.65477531, 0.6745041 , 0.63008131,\n",
      "       0.50281311, 0.69175289, 0.71810747, 0.68881358, 0.66679349,\n",
      "       0.52063588, 0.69866939, 0.52690349, 0.70474231, 0.58024671,\n",
      "       0.70805296, 0.68870169, 0.69425071, 0.67241789, 0.69287758,\n",
      "       0.71649936, 0.70564309, 0.71189274, 0.71018703, 0.63018907,\n",
      "       0.68612601, 0.66378346, 0.68584251, 0.6920583 , 0.69186396,\n",
      "       0.6893782 , 0.72007829, 0.66152173, 0.66766763, 0.69613338,\n",
      "       0.71235906, 0.68467004, 0.70465542, 0.65565665, 0.67917546,\n",
      "       0.37017256, 0.68068192, 0.71429252, 0.67287885, 0.678707  ,\n",
      "       0.69014365, 0.38637048, 0.68349196, 0.67262398, 0.6743253 ,\n",
      "       0.70451718, 0.64988432, 0.6791487 , 0.67749081, 0.70385289,\n",
      "       0.6632791 , 0.71545054, 0.69536865, 0.65258675, 0.68779625,\n",
      "       0.68316002, 0.67302016, 0.68196934, 0.70049341, 0.6937458 ]), 'split3_test_score': array([0.62151756, 0.70509467, 0.73897059, 0.72505832, 0.70164734,\n",
      "       0.72762184, 0.71027732, 0.73932289, 0.7352894 , 0.6906142 ,\n",
      "       0.71167619, 0.7278004 , 0.72508838, 0.7290132 , 0.70067121,\n",
      "       0.71752726, 0.7322657 , 0.70126451, 0.68171319, 0.70562997,\n",
      "       0.72011121, 0.7226145 , 0.70257456, 0.73540645, 0.7108741 ,\n",
      "       0.71297033, 0.63175713, 0.70698608, 0.73483465, 0.72077731,\n",
      "       0.70151743, 0.71238447, 0.70951611, 0.69463415, 0.66922563,\n",
      "       0.69634216, 0.71228665, 0.64556133, 0.67526671, 0.64750911,\n",
      "       0.62528374, 0.72449085, 0.71207597, 0.70934379, 0.73391515,\n",
      "       0.60235448, 0.7292077 , 0.58226368, 0.70850309, 0.58947604,\n",
      "       0.70398891, 0.72479383, 0.72707565, 0.73783356, 0.69969937,\n",
      "       0.70911708, 0.71123475, 0.71306869, 0.71659672, 0.72829451,\n",
      "       0.72869718, 0.66929706, 0.72039142, 0.72517487, 0.71302592,\n",
      "       0.70105828, 0.71568072, 0.67687765, 0.73575974, 0.72230483,\n",
      "       0.71146845, 0.68668355, 0.72920664, 0.74140444, 0.73093157,\n",
      "       0.53801126, 0.6742309 , 0.71101711, 0.67882594, 0.71419382,\n",
      "       0.70611986, 0.53337958, 0.67599164, 0.67791453, 0.68244235,\n",
      "       0.68928847, 0.6630444 , 0.7095701 , 0.6862739 , 0.71687383,\n",
      "       0.67933758, 0.71916825, 0.72502915, 0.71884434, 0.71017698,\n",
      "       0.69465528, 0.66833985, 0.73709879, 0.70035005, 0.71312685]), 'split4_test_score': array([0.53484946, 0.75338251, 0.66630966, 0.65228446, 0.74988951,\n",
      "       0.65419995, 0.76962922, 0.66955934, 0.68870319, 0.60051155,\n",
      "       0.71131809, 0.70710697, 0.64482449, 0.64615157, 0.74304114,\n",
      "       0.7033782 , 0.68211687, 0.60777424, 0.73928503, 0.60719888,\n",
      "       0.64110577, 0.70334367, 0.75862673, 0.70558248, 0.67398134,\n",
      "       0.74090985, 0.54984939, 0.74319629, 0.69108322, 0.72722535,\n",
      "       0.71648079, 0.75157852, 0.62572424, 0.61232157, 0.71385941,\n",
      "       0.58788553, 0.74238016, 0.56671134, 0.58047544, 0.69385088,\n",
      "       0.60426341, 0.71193261, 0.7429559 , 0.74481383, 0.66739089,\n",
      "       0.61167053, 0.72925009, 0.62842133, 0.7600124 , 0.49532111,\n",
      "       0.7376689 , 0.70292918, 0.72138143, 0.66602606, 0.75369804,\n",
      "       0.75980156, 0.69654855, 0.74929773, 0.73409402, 0.66518478,\n",
      "       0.64651052, 0.57178781, 0.63200335, 0.70976617, 0.62783282,\n",
      "       0.76434357, 0.75623252, 0.57496991, 0.69699728, 0.64391163,\n",
      "       0.75405437, 0.57687518, 0.70980641, 0.68134494, 0.64605015,\n",
      "       0.38991645, 0.59560879, 0.73081146, 0.57883781, 0.6338347 ,\n",
      "       0.73805654, 0.3831638 , 0.57909043, 0.59522168, 0.5846795 ,\n",
      "       0.75562116, 0.55914518, 0.69898959, 0.58590793, 0.74767936,\n",
      "       0.59229062, 0.7584921 , 0.71975033, 0.6818741 , 0.60432315,\n",
      "       0.60659922, 0.56924635, 0.70295733, 0.77363404, 0.62515975]), 'mean_test_score': array([0.5501607 , 0.70751337, 0.67346195, 0.6656899 , 0.71641193,\n",
      "       0.6674845 , 0.72339032, 0.67687419, 0.68612836, 0.63326244,\n",
      "       0.69269536, 0.6933719 , 0.66539471, 0.6651803 , 0.7071046 ,\n",
      "       0.68213462, 0.68154622, 0.63953602, 0.6836018 , 0.64425602,\n",
      "       0.66579945, 0.6944547 , 0.71012677, 0.6975727 , 0.65415536,\n",
      "       0.69720555, 0.55724151, 0.70589525, 0.6882293 , 0.70773898,\n",
      "       0.69583048, 0.70862092, 0.6426786 , 0.63978927, 0.66277711,\n",
      "       0.62992681, 0.71335857, 0.59596793, 0.61688046, 0.64540524,\n",
      "       0.56115668, 0.69714018, 0.71536921, 0.7016283 , 0.67074485,\n",
      "       0.56608115, 0.70604306, 0.56442193, 0.71712639, 0.52406695,\n",
      "       0.70838034, 0.69216427, 0.70345141, 0.6765904 , 0.7097137 ,\n",
      "       0.72714283, 0.68642103, 0.71614002, 0.71070099, 0.65787771,\n",
      "       0.66539031, 0.60726604, 0.65984695, 0.69880323, 0.65193314,\n",
      "       0.70712364, 0.7217683 , 0.61159638, 0.68420755, 0.66124703,\n",
      "       0.71984335, 0.62471789, 0.70041109, 0.67966366, 0.6690824 ,\n",
      "       0.37892492, 0.62477978, 0.70785396, 0.61673826, 0.64945294,\n",
      "       0.6940478 , 0.38438493, 0.61907942, 0.61423508, 0.61941494,\n",
      "       0.69460679, 0.59445479, 0.69105171, 0.62529488, 0.71465205,\n",
      "       0.60892068, 0.72223108, 0.70068573, 0.66763612, 0.64032872,\n",
      "       0.63837828, 0.61129064, 0.6916165 , 0.71682372, 0.65390891]), 'std_test_score': array([0.03945042, 0.0405292 , 0.03898176, 0.03619831, 0.03359324,\n",
      "       0.03575168, 0.03678278, 0.04295552, 0.03897798, 0.04713272,\n",
      "       0.03341963, 0.03002047, 0.03638757, 0.03553989, 0.03626442,\n",
      "       0.03864989, 0.03596708, 0.04804644, 0.04373889, 0.04177406,\n",
      "       0.03097036, 0.03495562, 0.04134809, 0.03420886, 0.04646382,\n",
      "       0.04281109, 0.04535168, 0.03911485, 0.03756394, 0.03128291,\n",
      "       0.03358454, 0.03705843, 0.04160157, 0.04355682, 0.04601492,\n",
      "       0.05041921, 0.03455391, 0.04543974, 0.04970019, 0.04579585,\n",
      "       0.06217744, 0.03712655, 0.03596346, 0.04051423, 0.03642044,\n",
      "       0.05162881, 0.03719692, 0.05703015, 0.03642864, 0.05402338,\n",
      "       0.03346813, 0.03828998, 0.03422579, 0.03693877, 0.03990152,\n",
      "       0.03254531, 0.05654053, 0.03894353, 0.03371145, 0.04565152,\n",
      "       0.03782392, 0.05056803, 0.03715141, 0.0337442 , 0.04217344,\n",
      "       0.04991727, 0.03434381, 0.04821678, 0.03919126, 0.04083544,\n",
      "       0.03486786, 0.051453  , 0.03581091, 0.03930118, 0.03591017,\n",
      "       0.08818042, 0.04590864, 0.03545479, 0.05061335, 0.04157052,\n",
      "       0.04391934, 0.08297774, 0.05364116, 0.05529773, 0.05039929,\n",
      "       0.0437773 , 0.05275131, 0.02980365, 0.04826068, 0.03692607,\n",
      "       0.05828552, 0.03713875, 0.03625558, 0.04295824, 0.05013471,\n",
      "       0.04308702, 0.05092173, 0.03551487, 0.0383311 , 0.04097101]), 'rank_test_score': array([ 97,  20,  52,  58,   8,  56,   2,  50,  44,  77,  38,  37,  59,\n",
      "        61,  22,  47,  48,  75,  46,  71,  57,  35,  14,  30,  66,  31,\n",
      "        96,  24,  42,  19,  33,  16,  72,  74,  62,  78,  12,  91,  84,\n",
      "        70,  95,  32,  10,  26,  53,  93,  23,  94,   6,  98,  17,  39,\n",
      "        25,  51,  15,   1,  43,   9,  13,  65,  60,  90,  64,  29,  68,\n",
      "        21,   4,  87,  45,  63,   5,  81,  28,  49,  54, 100,  80,  18,\n",
      "        85,  69,  36,  99,  83,  86,  82,  34,  92,  41,  79,  11,  89,\n",
      "         3,  27,  55,  73,  76,  88,  40,   7,  67])}\n",
      "\n",
      " Best estimator:\n",
      "RandomForestRegressor(max_depth=13, min_samples_leaf=4, n_estimators=12)\n",
      "0.4542856679052112\n",
      "\n",
      " Best hyperparameters:\n",
      "{'n_estimators': 12, 'min_samples_split': 2, 'min_samples_leaf': 4, 'max_depth': 13}\n"
     ]
    }
   ],
   "source": [
    "print('\\n All results:')\n",
    "print(random_search.cv_results_)\n",
    "print('\\n Best estimator:')\n",
    "print(random_search.best_estimator_)\n",
    "#print('\\n Best normalized gini score for %d-fold search with %d parameter combinations:' % (folds, param_comb))\n",
    "print(random_search.best_score_ * 2 - 1)\n",
    "print('\\n Best hyperparameters:')\n",
    "print(random_search.best_params_)\n",
    "results = pd.DataFrame(random_search.cv_results_)\n",
    "results.to_csv('xgb-random-grid-search-results-01.csv', index=False)"
   ]
  },
  {
   "cell_type": "code",
   "execution_count": 197,
   "id": "d3ef7e02",
   "metadata": {},
   "outputs": [],
   "source": [
    "X = df.drop(['price'], axis=1).values\n",
    "Y = df['price'].values\n",
    "\n",
    "test_size = 0.25\n",
    "r_state = 123\n",
    "X_train, X_test, y_train, y_test = train_test_split(X, Y, test_size=test_size, random_state=r_state)"
   ]
  },
  {
   "cell_type": "code",
   "execution_count": 229,
   "id": "656e041e",
   "metadata": {},
   "outputs": [
    {
     "name": "stdout",
     "output_type": "stream",
     "text": [
      "MSE:  534.5408416286476\n",
      "MAE:  14.712670662390241\n",
      "RMSE:  23.120139308158322\n",
      "R2:  0.7195416761657323\n"
     ]
    }
   ],
   "source": [
    "probs = random_search.predict(X_test)\n",
    "print('MSE: ', mean_squared_error(y_test, probs))\n",
    "print('MAE: ', mean_absolute_error(y_test, probs))\n",
    "print('RMSE: ', math.sqrt(mean_squared_error(y_test, probs)))\n",
    "print('R2: ', r2_score(y_test, probs))"
   ]
  },
  {
   "cell_type": "code",
   "execution_count": 319,
   "id": "b113e1be",
   "metadata": {},
   "outputs": [
    {
     "name": "stdout",
     "output_type": "stream",
     "text": [
      "MSE:  527.9519288317227\n",
      "MAE:  14.694695833218969\n",
      "RMSE:  22.97720454780613\n",
      "R2:  0.7229986906630446\n"
     ]
    }
   ],
   "source": [
    "rf_regressor = RandomForestRegressor(n_estimators= 12, min_samples_split= 2, min_samples_leaf= 4, max_depth= 13)\n",
    "rf_regressor.fit(X_train, y_train)\n",
    "probs = rf_regressor.predict(X_test)\n",
    "print('MSE: ', mean_squared_error(y_test, probs))\n",
    "print('MAE: ', mean_absolute_error(y_test, probs))\n",
    "print('RMSE: ', math.sqrt(mean_squared_error(y_test, probs)))\n",
    "print('R2: ', r2_score(y_test, probs))"
   ]
  },
  {
   "cell_type": "code",
   "execution_count": 311,
   "id": "cbcb7e6d",
   "metadata": {},
   "outputs": [
    {
     "name": "stdout",
     "output_type": "stream",
     "text": [
      "MSE:  479.29051048858673\n",
      "MAE:  13.99036544262163\n",
      "RMSE:  21.892704503751627\n",
      "R2:  0.748529948073297\n"
     ]
    }
   ],
   "source": [
    "rf_regressor = RandomForestRegressor(n_estimators = 73, min_samples_split = 6, min_samples_leaf = 3, max_depth = 27)\n",
    "rf_regressor.fit(X_train, y_train)\n",
    "probs = rf_regressor.predict(X_test)\n",
    "print('MSE: ', mean_squared_error(y_test, probs))\n",
    "print('MAE: ', mean_absolute_error(y_test, probs))\n",
    "print('RMSE: ', math.sqrt(mean_squared_error(y_test, probs)))\n",
    "print('R2: ', r2_score(y_test, probs))"
   ]
  },
  {
   "cell_type": "markdown",
   "id": "7ec52d3f",
   "metadata": {},
   "source": [
    "# Предсказание цены"
   ]
  },
  {
   "cell_type": "code",
   "execution_count": 200,
   "id": "63bfdfed",
   "metadata": {},
   "outputs": [
    {
     "data": {
      "text/plain": [
       "price       128.0\n",
       "totsp        70.0\n",
       "livesp       42.0\n",
       "kitsp         6.0\n",
       "dist         14.5\n",
       "metrdist      3.0\n",
       "walk          1.0\n",
       "brick         1.0\n",
       "floor         1.0\n",
       "code_0        0.0\n",
       "code_1        0.0\n",
       "code_2        1.0\n",
       "code_3        0.0\n",
       "code_4        0.0\n",
       "code_5        0.0\n",
       "code_6        0.0\n",
       "code_7        0.0\n",
       "Name: 2, dtype: float64"
      ]
     },
     "execution_count": 200,
     "metadata": {},
     "output_type": "execute_result"
    }
   ],
   "source": [
    "flat2 = df.iloc[2]\n",
    "flat2"
   ]
  },
  {
   "cell_type": "code",
   "execution_count": 201,
   "id": "c9bccd5f",
   "metadata": {},
   "outputs": [
    {
     "data": {
      "text/plain": [
       "price       190.0\n",
       "totsp        81.0\n",
       "livesp       46.0\n",
       "kitsp        12.0\n",
       "dist         12.0\n",
       "metrdist      5.0\n",
       "walk          0.0\n",
       "brick         0.0\n",
       "floor         1.0\n",
       "code_0        0.0\n",
       "code_1        0.0\n",
       "code_2        0.0\n",
       "code_3        0.0\n",
       "code_4        0.0\n",
       "code_5        0.0\n",
       "code_6        0.0\n",
       "code_7        1.0\n",
       "Name: 122, dtype: float64"
      ]
     },
     "execution_count": 201,
     "metadata": {},
     "output_type": "execute_result"
    }
   ],
   "source": [
    "flat122 = df.iloc[122]\n",
    "flat122"
   ]
  },
  {
   "cell_type": "code",
   "execution_count": 202,
   "id": "6ed003e7",
   "metadata": {},
   "outputs": [
    {
     "data": {
      "text/plain": [
       "price       95.0\n",
       "totsp       64.0\n",
       "livesp      45.0\n",
       "kitsp        6.0\n",
       "dist        12.5\n",
       "metrdist    10.0\n",
       "walk         1.0\n",
       "brick        0.0\n",
       "floor        1.0\n",
       "code_0       0.0\n",
       "code_1       1.0\n",
       "code_2       0.0\n",
       "code_3       0.0\n",
       "code_4       0.0\n",
       "code_5       0.0\n",
       "code_6       0.0\n",
       "code_7       0.0\n",
       "Name: 555, dtype: float64"
      ]
     },
     "execution_count": 202,
     "metadata": {},
     "output_type": "execute_result"
    }
   ],
   "source": [
    "flat555 = df.iloc[555]\n",
    "flat555"
   ]
  },
  {
   "cell_type": "code",
   "execution_count": 203,
   "id": "74c8a17d",
   "metadata": {},
   "outputs": [
    {
     "data": {
      "text/plain": [
       "price       208.0\n",
       "totsp       115.0\n",
       "livesp       70.0\n",
       "kitsp        14.0\n",
       "dist         10.0\n",
       "metrdist      3.0\n",
       "walk          1.0\n",
       "brick         1.0\n",
       "floor         1.0\n",
       "code_0        0.0\n",
       "code_1        0.0\n",
       "code_2        0.0\n",
       "code_3        0.0\n",
       "code_4        0.0\n",
       "code_5        1.0\n",
       "code_6        0.0\n",
       "code_7        0.0\n",
       "Name: 98, dtype: float64"
      ]
     },
     "execution_count": 203,
     "metadata": {},
     "output_type": "execute_result"
    }
   ],
   "source": [
    "flat98 = df.iloc[98]\n",
    "flat98"
   ]
  },
  {
   "cell_type": "code",
   "execution_count": 204,
   "id": "3ba4c738",
   "metadata": {},
   "outputs": [
    {
     "data": {
      "text/plain": [
       "price       56.0\n",
       "totsp       68.0\n",
       "livesp      43.0\n",
       "kitsp        7.0\n",
       "dist        13.5\n",
       "metrdist    10.0\n",
       "walk         0.0\n",
       "brick        1.0\n",
       "floor        1.0\n",
       "code_0       0.0\n",
       "code_1       0.0\n",
       "code_2       0.0\n",
       "code_3       0.0\n",
       "code_4       0.0\n",
       "code_5       1.0\n",
       "code_6       0.0\n",
       "code_7       0.0\n",
       "Name: 25, dtype: float64"
      ]
     },
     "execution_count": 204,
     "metadata": {},
     "output_type": "execute_result"
    }
   ],
   "source": [
    "flat25 = df.iloc[25]\n",
    "flat25"
   ]
  },
  {
   "cell_type": "code",
   "execution_count": 205,
   "id": "19cec9cc",
   "metadata": {},
   "outputs": [
    {
     "data": {
      "text/plain": [
       "(2033, 17)"
      ]
     },
     "execution_count": 205,
     "metadata": {},
     "output_type": "execute_result"
    }
   ],
   "source": [
    "df.drop(index = [25, 98, 555, 122, 2], inplace = True)\n",
    "df.shape"
   ]
  },
  {
   "cell_type": "code",
   "execution_count": 148,
   "id": "077a8a3e",
   "metadata": {},
   "outputs": [
    {
     "name": "stdout",
     "output_type": "stream",
     "text": [
      "Recommended price of your flat: 123.67\n"
     ]
    },
    {
     "name": "stderr",
     "output_type": "stream",
     "text": [
      "C:\\Users\\shadee\\AppData\\Local\\Temp\\ipykernel_8760\\2908433146.py:1: SettingWithCopyWarning: \n",
      "A value is trying to be set on a copy of a slice from a DataFrame\n",
      "\n",
      "See the caveats in the documentation: https://pandas.pydata.org/pandas-docs/stable/user_guide/indexing.html#returning-a-view-versus-a-copy\n",
      "  flat2.drop(index = \"price\", inplace = True)\n"
     ]
    }
   ],
   "source": [
    "flat2.drop(index = \"price\", inplace = True)\n",
    "y_pred = rf_regressor.predict(flat2.array.reshape(1, -1))\n",
    "print('Recommended price of your flat:', y_pred[0])"
   ]
  },
  {
   "cell_type": "code",
   "execution_count": 149,
   "id": "e239d625",
   "metadata": {},
   "outputs": [
    {
     "name": "stdout",
     "output_type": "stream",
     "text": [
      "Recommended price of your flat: 179.7\n"
     ]
    },
    {
     "name": "stderr",
     "output_type": "stream",
     "text": [
      "C:\\Users\\shadee\\AppData\\Local\\Temp\\ipykernel_8760\\4024058752.py:1: SettingWithCopyWarning: \n",
      "A value is trying to be set on a copy of a slice from a DataFrame\n",
      "\n",
      "See the caveats in the documentation: https://pandas.pydata.org/pandas-docs/stable/user_guide/indexing.html#returning-a-view-versus-a-copy\n",
      "  flat122.drop(index = \"price\", inplace = True)\n"
     ]
    }
   ],
   "source": [
    "flat122.drop(index = \"price\", inplace = True)\n",
    "y_pred = rf_regressor.predict(flat122.array.reshape(1, -1))\n",
    "print('Recommended price of your flat:', y_pred[0])"
   ]
  },
  {
   "cell_type": "code",
   "execution_count": 150,
   "id": "a44fd3c6",
   "metadata": {},
   "outputs": [
    {
     "name": "stdout",
     "output_type": "stream",
     "text": [
      "Recommended price of your flat: 94.98\n"
     ]
    },
    {
     "name": "stderr",
     "output_type": "stream",
     "text": [
      "C:\\Users\\shadee\\AppData\\Local\\Temp\\ipykernel_8760\\4249353670.py:1: SettingWithCopyWarning: \n",
      "A value is trying to be set on a copy of a slice from a DataFrame\n",
      "\n",
      "See the caveats in the documentation: https://pandas.pydata.org/pandas-docs/stable/user_guide/indexing.html#returning-a-view-versus-a-copy\n",
      "  flat555.drop(index = \"price\", inplace = True)\n"
     ]
    }
   ],
   "source": [
    "flat555.drop(index = \"price\", inplace = True)\n",
    "y_pred = rf_regressor.predict(flat555.array.reshape(1, -1))\n",
    "print('Recommended price of your flat:', y_pred[0])"
   ]
  },
  {
   "cell_type": "code",
   "execution_count": 151,
   "id": "cb4c072c",
   "metadata": {
    "scrolled": true
   },
   "outputs": [
    {
     "name": "stdout",
     "output_type": "stream",
     "text": [
      "Recommended price of your flat: 206.93\n"
     ]
    },
    {
     "name": "stderr",
     "output_type": "stream",
     "text": [
      "C:\\Users\\shadee\\AppData\\Local\\Temp\\ipykernel_8760\\3089167550.py:1: SettingWithCopyWarning: \n",
      "A value is trying to be set on a copy of a slice from a DataFrame\n",
      "\n",
      "See the caveats in the documentation: https://pandas.pydata.org/pandas-docs/stable/user_guide/indexing.html#returning-a-view-versus-a-copy\n",
      "  flat98.drop(index = \"price\", inplace = True)\n"
     ]
    }
   ],
   "source": [
    "flat98.drop(index = \"price\", inplace = True)\n",
    "y_pred = rf_regressor.predict(flat98.array.reshape(1, -1))\n",
    "print('Recommended price of your flat:', y_pred[0])"
   ]
  },
  {
   "cell_type": "code",
   "execution_count": 152,
   "id": "2bcec7cb",
   "metadata": {},
   "outputs": [
    {
     "name": "stdout",
     "output_type": "stream",
     "text": [
      "Recommended price of your flat: 71.62\n"
     ]
    },
    {
     "name": "stderr",
     "output_type": "stream",
     "text": [
      "C:\\Users\\shadee\\AppData\\Local\\Temp\\ipykernel_8760\\178397140.py:1: SettingWithCopyWarning: \n",
      "A value is trying to be set on a copy of a slice from a DataFrame\n",
      "\n",
      "See the caveats in the documentation: https://pandas.pydata.org/pandas-docs/stable/user_guide/indexing.html#returning-a-view-versus-a-copy\n",
      "  flat25.drop(index = \"price\", inplace = True)\n"
     ]
    }
   ],
   "source": [
    "flat25.drop(index = \"price\", inplace = True)\n",
    "y_pred = rf_regressor.predict(flat25.array.reshape(1, -1))\n",
    "print('Recommended price of your flat:', y_pred[0])"
   ]
  }
 ],
 "metadata": {
  "kernelspec": {
   "display_name": "Python 3 (ipykernel)",
   "language": "python",
   "name": "python3"
  },
  "language_info": {
   "codemirror_mode": {
    "name": "ipython",
    "version": 3
   },
   "file_extension": ".py",
   "mimetype": "text/x-python",
   "name": "python",
   "nbconvert_exporter": "python",
   "pygments_lexer": "ipython3",
   "version": "3.9.13"
  }
 },
 "nbformat": 4,
 "nbformat_minor": 5
}
